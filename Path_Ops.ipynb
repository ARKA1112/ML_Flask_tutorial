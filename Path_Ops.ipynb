{
 "cells": [
  {
   "cell_type": "code",
   "execution_count": 1,
   "metadata": {},
   "outputs": [],
   "source": [
    "import nest_asyncio\n",
    "import uvicorn\n",
    "\n",
    "nest_asyncio.apply()"
   ]
  },
  {
   "cell_type": "code",
   "execution_count": 2,
   "metadata": {},
   "outputs": [
    {
     "name": "stderr",
     "output_type": "stream",
     "text": [
      "INFO:     Started server process [9895]\n",
      "INFO:     Waiting for application startup.\n",
      "INFO:     Application startup complete.\n",
      "INFO:     Uvicorn running on http://127.0.0.1:8000 (Press CTRL+C to quit)\n"
     ]
    },
    {
     "name": "stdout",
     "output_type": "stream",
     "text": [
      "INFO:     127.0.0.1:59606 - \"GET / HTTP/1.1\" 404 Not Found\n",
      "INFO:     127.0.0.1:59882 - \"GET /items HTTP/1.1\" 307 Temporary Redirect\n",
      "INFO:     127.0.0.1:59882 - \"GET /items/ HTTP/1.1\" 405 Method Not Allowed\n",
      "INFO:     127.0.0.1:59886 - \"GET /items/foo HTTP/1.1\" 404 Not Found\n",
      "INFO:     127.0.0.1:37062 - \"GET /docs HTTP/1.1\" 200 OK\n",
      "INFO:     127.0.0.1:37062 - \"GET /openapi.json HTTP/1.1\" 200 OK\n",
      "INFO:     127.0.0.1:37062 - \"POST /items/ HTTP/1.1\" 201 Created\n"
     ]
    },
    {
     "name": "stderr",
     "output_type": "stream",
     "text": [
      "INFO:     Shutting down\n",
      "INFO:     Waiting for application shutdown.\n",
      "INFO:     Application shutdown complete.\n",
      "INFO:     Finished server process [9895]\n"
     ]
    }
   ],
   "source": [
    "#Response Status Code\n",
    "\n",
    "from fastapi import FastAPI, status\n",
    "from pydantic import BaseModel\n",
    "\n",
    "app = FastAPI()\n",
    "\n",
    "\n",
    "class Item(BaseModel):\n",
    "    name: str\n",
    "    description: str | None = None\n",
    "    price: float\n",
    "    tax: float | None = None\n",
    "    tags: set[str] = set()\n",
    "\n",
    "@app.post('/items/', response_model=Item, status_code=status.HTTP_201_CREATED)\n",
    "async def create_item(item: Item):\n",
    "    return item\n",
    "\n",
    "uvicorn.run(app, port=8000)"
   ]
  },
  {
   "cell_type": "code",
   "execution_count": 3,
   "metadata": {},
   "outputs": [
    {
     "name": "stderr",
     "output_type": "stream",
     "text": [
      "INFO:     Started server process [9895]\n",
      "INFO:     Waiting for application startup.\n",
      "INFO:     Application startup complete.\n",
      "INFO:     Uvicorn running on http://127.0.0.1:8000 (Press CTRL+C to quit)\n"
     ]
    },
    {
     "name": "stdout",
     "output_type": "stream",
     "text": [
      "INFO:     127.0.0.1:54650 - \"GET / HTTP/1.1\" 404 Not Found\n",
      "INFO:     127.0.0.1:54650 - \"GET /docs HTTP/1.1\" 200 OK\n",
      "INFO:     127.0.0.1:54650 - \"GET /openapi.json HTTP/1.1\" 200 OK\n",
      "INFO:     127.0.0.1:53298 - \"POST /items/ HTTP/1.1\" 201 Created\n",
      "INFO:     127.0.0.1:56874 - \"GET /items/ HTTP/1.1\" 200 OK\n",
      "INFO:     127.0.0.1:32796 - \"GET /users/ HTTP/1.1\" 200 OK\n"
     ]
    },
    {
     "name": "stderr",
     "output_type": "stream",
     "text": [
      "INFO:     Shutting down\n",
      "INFO:     Waiting for application shutdown.\n",
      "INFO:     Application shutdown complete.\n",
      "INFO:     Finished server process [9895]\n"
     ]
    }
   ],
   "source": [
    "#Response Status Code\n",
    "\n",
    "from fastapi import FastAPI, status\n",
    "from pydantic import BaseModel\n",
    "\n",
    "app = FastAPI()\n",
    "\n",
    "\n",
    "class Item(BaseModel):\n",
    "    name: str\n",
    "    description: str | None = None\n",
    "    price: float\n",
    "    tax: float | None = None\n",
    "    tags: set[str] = set()\n",
    "\n",
    "@app.post('/items/', response_model=Item, status_code=status.HTTP_201_CREATED)\n",
    "async def create_item(item: Item):\n",
    "    return item\n",
    "\n",
    "@app.get(\"/items/\", tags=[\"items\"])\n",
    "async def read_items():\n",
    "    return [{\"name\": \"Foo\", \"price\":42}]\n",
    "\n",
    "\n",
    "@app.get(\"/users/\", tags=[\"users\"])\n",
    "async def read_users():\n",
    "    return [{\"username\": \"johndoe\"}]\n",
    "\n",
    "uvicorn.run(app, port=8000)"
   ]
  },
  {
   "attachments": {},
   "cell_type": "markdown",
   "metadata": {},
   "source": [
    "Tags with Enums"
   ]
  },
  {
   "cell_type": "code",
   "execution_count": 5,
   "metadata": {},
   "outputs": [
    {
     "name": "stderr",
     "output_type": "stream",
     "text": [
      "INFO:     Started server process [9895]\n",
      "INFO:     Waiting for application startup.\n",
      "INFO:     Application startup complete.\n",
      "INFO:     Uvicorn running on http://127.0.0.1:8000 (Press CTRL+C to quit)\n"
     ]
    },
    {
     "name": "stdout",
     "output_type": "stream",
     "text": [
      "INFO:     127.0.0.1:32986 - \"GET /docs HTTP/1.1\" 200 OK\n",
      "INFO:     127.0.0.1:32986 - \"GET /openapi.json HTTP/1.1\" 200 OK\n",
      "INFO:     127.0.0.1:32986 - \"GET /items/ HTTP/1.1\" 200 OK\n"
     ]
    },
    {
     "name": "stderr",
     "output_type": "stream",
     "text": [
      "INFO:     Shutting down\n",
      "INFO:     Waiting for application shutdown.\n",
      "INFO:     Application shutdown complete.\n",
      "INFO:     Finished server process [9895]\n"
     ]
    }
   ],
   "source": [
    "#if you have a big applicaton you might end up accumulating several tags, and you would want to make sure you always use the same tag for realted path operations.\n",
    "\n",
    "\n",
    "from enum import Enum\n",
    "\n",
    "from fastapi import FastAPI\n",
    "app = FastAPI()\n",
    "\n",
    "\n",
    "class Tags(Enum):\n",
    "    items = \"items\"\n",
    "    users = \"users\"\n",
    "\n",
    "@app.get(\"/items/\", tags=[Tags.items])\n",
    "async def get_items():\n",
    "    return [\"Portal gun\", \"Plumbus\"]\n",
    "\n",
    "@app.get(\"/users/\", tags=[Tags.users])\n",
    "async def read_users():\n",
    "    return ['Rick', 'Morty']\n",
    "\n",
    "uvicorn.run(app, port=8000)"
   ]
  },
  {
   "attachments": {},
   "cell_type": "markdown",
   "metadata": {},
   "source": [
    "Summary and description\n"
   ]
  },
  {
   "cell_type": "code",
   "execution_count": 4,
   "metadata": {},
   "outputs": [
    {
     "name": "stderr",
     "output_type": "stream",
     "text": [
      "INFO:     Started server process [19883]\n",
      "INFO:     Waiting for application startup.\n",
      "INFO:     Application startup complete.\n",
      "INFO:     Uvicorn running on http://127.0.0.1:8000 (Press CTRL+C to quit)\n"
     ]
    },
    {
     "name": "stdout",
     "output_type": "stream",
     "text": [
      "INFO:     127.0.0.1:36336 - \"GET / HTTP/1.1\" 404 Not Found\n",
      "INFO:     127.0.0.1:36336 - \"GET /favicon.ico HTTP/1.1\" 404 Not Found\n",
      "INFO:     127.0.0.1:36336 - \"GET /docs HTTP/1.1\" 200 OK\n",
      "INFO:     127.0.0.1:36336 - \"GET /openapi.json HTTP/1.1\" 200 OK\n",
      "INFO:     127.0.0.1:36336 - \"POST /items/ HTTP/1.1\" 200 OK\n"
     ]
    },
    {
     "name": "stderr",
     "output_type": "stream",
     "text": [
      "INFO:     Shutting down\n",
      "INFO:     Waiting for application shutdown.\n",
      "INFO:     Application shutdown complete.\n",
      "INFO:     Finished server process [19883]\n"
     ]
    }
   ],
   "source": [
    "from fastapi import FastAPI\n",
    "\n",
    "from pydantic import BaseModel\n",
    "\n",
    "\n",
    "app = FastAPI()\n",
    "\n",
    "class Item(BaseModel):\n",
    "    name: str\n",
    "    description: str | None = None\n",
    "    price: float\n",
    "    tax: float | None = None\n",
    "    tags: set[str] = set()\n",
    "\n",
    "@app.post('/items/', response_model=Item, summary='Create an item', description='Create an item with all the information, name, description, price, tax and a set of unique tags',)\n",
    "async def create_item(item: Item):\n",
    "    return item\n",
    "\n",
    "\n",
    "uvicorn.run(app, port=8000)"
   ]
  },
  {
   "cell_type": "code",
   "execution_count": 6,
   "metadata": {},
   "outputs": [
    {
     "name": "stderr",
     "output_type": "stream",
     "text": [
      "INFO:     Started server process [19883]\n",
      "INFO:     Waiting for application startup.\n",
      "INFO:     Application startup complete.\n",
      "INFO:     Uvicorn running on http://127.0.0.1:8000 (Press CTRL+C to quit)\n"
     ]
    },
    {
     "name": "stdout",
     "output_type": "stream",
     "text": [
      "INFO:     127.0.0.1:41696 - \"GET /items/ HTTP/1.1\" 405 Method Not Allowed\n"
     ]
    },
    {
     "name": "stderr",
     "output_type": "stream",
     "text": [
      "INFO:     Shutting down\n",
      "INFO:     Waiting for application shutdown.\n",
      "INFO:     Application shutdown complete.\n",
      "INFO:     Finished server process [19883]\n"
     ]
    }
   ],
   "source": [
    "#As descriptions tend to be long and cover multiple lines, you can declare the path operation description in the function decstring and FastAPI will read it from there\n",
    "\n",
    "\n",
    "from fastapi import FastAPI\n",
    "from pydantic import BaseModel\n",
    "\n",
    "\n",
    "app = FastAPI()\n",
    "\n",
    "class Item(BaseModel):\n",
    "    name: str\n",
    "    description: str | None = None\n",
    "    price: float\n",
    "    tax: float | None = None\n",
    "    tags: set[str] = set()\n",
    "\n",
    "@app.post('/items/', response_model=Item, summary=\"create an item\")\n",
    "async def create_item(item: Item):\n",
    "    \"\"\"\n",
    "    Create an item with all the information:\n",
    "\n",
    "    - **name**: each item must have a name\n",
    "    - **description**: a long description\n",
    "    - **price**: required\n",
    "    - **tax**: if the item doesn't have tax, you can omit this\n",
    "    - **tags**: a set of unique tag strings for this item\n",
    "    \"\"\"\n",
    "    return item\n",
    "\n",
    "uvicorn.run(app, port=8000)"
   ]
  },
  {
   "attachments": {},
   "cell_type": "markdown",
   "metadata": {},
   "source": [
    "Response Description"
   ]
  },
  {
   "cell_type": "code",
   "execution_count": 7,
   "metadata": {},
   "outputs": [
    {
     "name": "stderr",
     "output_type": "stream",
     "text": [
      "INFO:     Started server process [19883]\n",
      "INFO:     Waiting for application startup.\n",
      "INFO:     Application startup complete.\n",
      "INFO:     Uvicorn running on http://127.0.0.1:8000 (Press CTRL+C to quit)\n"
     ]
    },
    {
     "name": "stdout",
     "output_type": "stream",
     "text": [
      "INFO:     127.0.0.1:56160 - \"GET / HTTP/1.1\" 404 Not Found\n",
      "INFO:     127.0.0.1:56160 - \"GET /docs HTTP/1.1\" 200 OK\n",
      "INFO:     127.0.0.1:56160 - \"GET /openapi.json HTTP/1.1\" 200 OK\n",
      "INFO:     127.0.0.1:46574 - \"POST /items/ HTTP/1.1\" 200 OK\n"
     ]
    },
    {
     "name": "stderr",
     "output_type": "stream",
     "text": [
      "INFO:     Shutting down\n",
      "INFO:     Waiting for application shutdown.\n",
      "INFO:     Application shutdown complete.\n",
      "INFO:     Finished server process [19883]\n"
     ]
    }
   ],
   "source": [
    "\n",
    "from fastapi import FastAPI\n",
    "from pydantic import BaseModel\n",
    "\n",
    "\n",
    "app = FastAPI()\n",
    "\n",
    "class Item(BaseModel):\n",
    "    name: str\n",
    "    description: str | None = None\n",
    "    price: float\n",
    "    tax: float | None = None\n",
    "    tags: set[str] = set()\n",
    "\n",
    "\n",
    "@app.post('/items/', response_model=Item, summary='Create an item', response_description=\"The created item\",)\n",
    "\n",
    "async def create_item(item: Item):\n",
    "    \"\"\"\n",
    "    Create an item with all the information:\n",
    "\n",
    "    - **name**: each item must have a name\n",
    "    - **description**: a long description\n",
    "    - **price**: required\n",
    "    - **tax**: if the item doesn't have tax, you can omit this\n",
    "    - **tags**: a set of unique tag strings for this item\n",
    "    \"\"\"\n",
    "\n",
    "    return item\n",
    "\n",
    "\n",
    "uvicorn.run(app, port=8000)"
   ]
  },
  {
   "attachments": {},
   "cell_type": "markdown",
   "metadata": {},
   "source": [
    "## JSON Compatible Encoder"
   ]
  },
  {
   "cell_type": "code",
   "execution_count": 10,
   "metadata": {},
   "outputs": [
    {
     "name": "stderr",
     "output_type": "stream",
     "text": [
      "INFO:     Started server process [19883]\n",
      "INFO:     Waiting for application startup.\n",
      "INFO:     Application startup complete.\n",
      "INFO:     Uvicorn running on http://127.0.0.1:8000 (Press CTRL+C to quit)\n"
     ]
    },
    {
     "name": "stdout",
     "output_type": "stream",
     "text": [
      "INFO:     127.0.0.1:45056 - \"GET /docs HTTP/1.1\" 200 OK\n",
      "INFO:     127.0.0.1:45056 - \"GET /openapi.json HTTP/1.1\" 200 OK\n",
      "INFO:     127.0.0.1:45056 - \"PUT /items/12 HTTP/1.1\" 200 OK\n"
     ]
    },
    {
     "name": "stderr",
     "output_type": "stream",
     "text": [
      "INFO:     Shutting down\n",
      "INFO:     Waiting for application shutdown.\n",
      "INFO:     Application shutdown complete.\n",
      "INFO:     Finished server process [19883]\n"
     ]
    }
   ],
   "source": [
    "#There are some cases wher you might need to convert a data type (like a Pydantic model ) to something compatible with JSON like a dict, list  etc\n",
    "\n",
    "\n",
    "\n",
    "\n",
    "#using the jsonable_encoder\n",
    "\n",
    "\n",
    "#Lets imagine that you have a database fake_db that only receives JSON compatible data.\n",
    "\n",
    "\n",
    "from datetime import datetime\n",
    "\n",
    "from fastapi import FastAPI\n",
    "from fastapi.encoders import jsonable_encoder\n",
    "from pydantic import BaseModel\n",
    "\n",
    "\n",
    "\n",
    "fake_db = {}\n",
    "\n",
    "class Item(BaseModel):\n",
    "    title: str\n",
    "    timestamp: datetime\n",
    "    description: str | None = None\n",
    "\n",
    "app = FastAPI()\n",
    "\n",
    "\n",
    "@app.put('/items/{id}')\n",
    "def update_item(id: str, item: Item):\n",
    "    json_compatible_item_data = jsonable_encoder(item)\n",
    "    fake_db[id] = json_compatible_item_data\n",
    "    return fake_db[id]\n",
    "\n",
    "uvicorn.run(app=app, port=8000)"
   ]
  },
  {
   "cell_type": "code",
   "execution_count": null,
   "metadata": {},
   "outputs": [],
   "source": []
  }
 ],
 "metadata": {
  "kernelspec": {
   "display_name": "DeepLearning",
   "language": "python",
   "name": "python3"
  },
  "language_info": {
   "codemirror_mode": {
    "name": "ipython",
    "version": 3
   },
   "file_extension": ".py",
   "mimetype": "text/x-python",
   "name": "python",
   "nbconvert_exporter": "python",
   "pygments_lexer": "ipython3",
   "version": "3.10.9"
  },
  "orig_nbformat": 4
 },
 "nbformat": 4,
 "nbformat_minor": 2
}
