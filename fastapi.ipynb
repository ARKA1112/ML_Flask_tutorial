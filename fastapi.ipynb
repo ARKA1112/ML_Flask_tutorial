{
 "cells": [
  {
   "cell_type": "markdown",
   "metadata": {
    "tags": [
     "Predefined Values"
    ]
   },
   "source": [
    "Predefined values"
   ]
  },
  {
   "cell_type": "code",
   "execution_count": 1,
   "metadata": {},
   "outputs": [],
   "source": [
    "#If youi have a path operation that receives a path parameter, but you wan thte possible valid path parameter values to be predefined, you can use a standard Python Enum."
   ]
  },
  {
   "cell_type": "markdown",
   "metadata": {},
   "source": [
    "Declare a path parameter"
   ]
  },
  {
   "cell_type": "code",
   "execution_count": 1,
   "metadata": {},
   "outputs": [],
   "source": [
    "#if enum is used then the members can be accessed by value\n",
    "#One can also get the value \"lenet\" with ModelName.lenet.value"
   ]
  },
  {
   "cell_type": "code",
   "execution_count": 2,
   "metadata": {},
   "outputs": [],
   "source": [
    "#In this case, the name of the parameter is file_path, and the last part :path , tells it that the parameter should match any path\n",
    "\n"
   ]
  },
  {
   "cell_type": "markdown",
   "metadata": {},
   "source": [
    "Query Parameters"
   ]
  },
  {
   "cell_type": "code",
   "execution_count": 3,
   "metadata": {},
   "outputs": [],
   "source": [
    "#When you declare otehr function parameters that are not part of the path parameters, they are automatically interpreted as \"query\" parameters\n",
    "\n"
   ]
  },
  {
   "cell_type": "markdown",
   "metadata": {},
   "source": [
    "Defaults"
   ]
  },
  {
   "cell_type": "code",
   "execution_count": null,
   "metadata": {},
   "outputs": [],
   "source": [
    "#As query parameters are not a fixed part of a path, they can be optional and can have default values.\n",
    "#In the example above they have default values of skip=0 and limit=10"
   ]
  },
  {
   "cell_type": "markdown",
   "metadata": {},
   "source": [
    "Required query parameters"
   ]
  },
  {
   "cell_type": "code",
   "execution_count": 4,
   "metadata": {},
   "outputs": [],
   "source": [
    "#When you declare a default value for nonpath parameters ( for now we have only seen query parameters), then it is not required\n",
    "\n",
    "#if you dont want to add a specific value but just make it optional, set the default as None.\n",
    "\n",
    "#But when you want to make a query parameer required, you can just not declare any default value:\n",
    "\n"
   ]
  },
  {
   "cell_type": "markdown",
   "metadata": {},
   "source": [
    "Multiple path and query parameters"
   ]
  },
  {
   "cell_type": "code",
   "execution_count": 5,
   "metadata": {},
   "outputs": [],
   "source": [
    "#You can declare multiple path parameters and query parameters at the same time, FastAPI knows which is which.\n",
    "#And you dont have to declrae them in specific order.\n",
    "#They will be detected by name:"
   ]
  },
  {
   "cell_type": "markdown",
   "metadata": {},
   "source": [
    "Required query parameters"
   ]
  },
  {
   "cell_type": "code",
   "execution_count": 6,
   "metadata": {},
   "outputs": [
    {
     "data": {
      "text/plain": [
       "'When you declare a default value for non path parameters(for now, we have only seen query parameters) then it is not required.\\n\\nIf you dont want to add a specific value but just make it optional, set the default as None\\n\\nBut when you want to make a query parameter required you can just no declare any default value:'"
      ]
     },
     "execution_count": 6,
     "metadata": {},
     "output_type": "execute_result"
    }
   ],
   "source": [
    "'''When you declare a default value for non path parameters(for now, we have only seen query parameters) then it is not required.\n",
    "\n",
    "If you dont want to add a specific value but just make it optional, set the default as None\n",
    "\n",
    "But when you want to make a query parameter required you can just no declare any default value:'''"
   ]
  },
  {
   "cell_type": "code",
   "execution_count": null,
   "metadata": {},
   "outputs": [],
   "source": [
    "https://fastapi.tiangolo.com/tutorial/body/"
   ]
  },
  {
   "cell_type": "markdown",
   "metadata": {},
   "source": [
    "Request Body"
   ]
  },
  {
   "cell_type": "code",
   "execution_count": 1,
   "metadata": {},
   "outputs": [],
   "source": [
    "#A request body is he request a client sends to the api and the response body is the response the api gives to the client"
   ]
  },
  {
   "cell_type": "code",
   "execution_count": 2,
   "metadata": {},
   "outputs": [
    {
     "name": "stdout",
     "output_type": "stream",
     "text": [
      "Python 3.9.16\n"
     ]
    }
   ],
   "source": [
    "!python --version\n"
   ]
  },
  {
   "cell_type": "code",
   "execution_count": 9,
   "metadata": {},
   "outputs": [
    {
     "name": "stdout",
     "output_type": "stream",
     "text": [
      "                                                                                                    \r"
     ]
    },
    {
     "name": "stderr",
     "output_type": "stream",
     "text": [
      "INFO:     Started server process [6486]\n",
      "INFO:     Waiting for application startup.\n",
      "INFO:     Application startup complete.\n",
      "INFO:     Uvicorn running on http://127.0.0.1:8000 (Press CTRL+C to quit)\n"
     ]
    },
    {
     "name": "stdout",
     "output_type": "stream",
     "text": [
      "INFO:     127.0.0.1:37996 - \"GET / HTTP/1.1\" 404 Not Found\n",
      "INFO:     127.0.0.1:47948 - \"GET /items/ HTTP/1.1\" 405 Method Not Allowed\n",
      "INFO:     127.0.0.1:47948 - \"GET /items HTTP/1.1\" 307 Temporary Redirect\n",
      "INFO:     127.0.0.1:47948 - \"GET /items/ HTTP/1.1\" 405 Method Not Allowed\n",
      "INFO:     127.0.0.1:38882 - \"GET /docs HTTP/1.1\" 200 OK\n",
      "INFO:     127.0.0.1:38882 - \"GET /openapi.json HTTP/1.1\" 200 OK\n",
      "INFO:     127.0.0.1:33638 - \"POST /items/ HTTP/1.1\" 200 OK\n",
      "INFO:     127.0.0.1:51614 - \"GET /items/ HTTP/1.1\" 405 Method Not Allowed\n"
     ]
    },
    {
     "name": "stderr",
     "output_type": "stream",
     "text": [
      "INFO:     Shutting down\n",
      "INFO:     Waiting for application shutdown.\n",
      "INFO:     Application shutdown complete.\n",
      "INFO:     Finished server process [6486]\n"
     ]
    }
   ],
   "source": [
    "from fastapi import  FastAPI\n",
    "from pydantic import BaseModel\n",
    "from typing import Union\n",
    "\n",
    "class Item(BaseModel):\n",
    "    name: str\n",
    "    description: Union[str,None] = None\n",
    "    price: float\n",
    "    tax: Union[str,None] = None\n",
    "\n",
    "app = FastAPI()\n",
    "@app.post('/items/')\n",
    "async def create_item(item: Item):\n",
    "    return item\n",
    "\n",
    "from pyngrok import ngrok\n",
    "ngrok_tunnel = ngrok.connect(8000)\n",
    "ngrok_tunnel\n",
    "\n",
    "import nest_asyncio\n",
    "import uvicorn\n",
    "\n",
    "nest_asyncio.apply()\n",
    "uvicorn.run(app, port=8000)"
   ]
  },
  {
   "cell_type": "code",
   "execution_count": 6,
   "metadata": {},
   "outputs": [],
   "source": [
    "import nest_asyncio\n",
    "import uvicorn\n",
    "nest_asyncio.apply()\n",
    "import pandas as pd\n"
   ]
  },
  {
   "cell_type": "code",
   "execution_count": 13,
   "metadata": {},
   "outputs": [],
   "source": [
    "def server(app):\n",
    "    from pyngrok import ngrok\n",
    "    ngrok_tunnel = ngrok.connect(8000)\n",
    "    ngrok_tunnel\n",
    "\n",
    "    import nest_asyncio\n",
    "    import uvicorn\n",
    "\n",
    "    nest_asyncio.apply()\n",
    "    uvicorn.run(app, port=8000)"
   ]
  },
  {
   "cell_type": "code",
   "execution_count": null,
   "metadata": {},
   "outputs": [],
   "source": [
    "from fastapi import FastAPI\n",
    "from pydantic import BaseModel\n",
    "from typing import Union\n",
    "\n",
    "class Item(BaseModel):\n",
    "    name: str\n",
    "    description: Union[str,None] = None\n",
    "    salary: float\n",
    "    tax: Union[str, None] = 'NIL'\n",
    "\n",
    "app = FastAPI()\n",
    "\n",
    "@app.post('/items/')\n",
    "async def create_item(item: Item):\n",
    "    item.name.capitalize()\n",
    "    return item\n"
   ]
  },
  {
   "attachments": {},
   "cell_type": "markdown",
   "metadata": {},
   "source": [
    "Use the model\n",
    "###### Inside the function one can access the attributes of the model directly"
   ]
  },
  {
   "cell_type": "code",
   "execution_count": null,
   "metadata": {},
   "outputs": [],
   "source": [
    "from fastapi import FastAPI\n",
    "from pydantic import BaseModel\n",
    "from typing import Union\n",
    "\n",
    "class Item(BaseModel):\n",
    "    name: str\n",
    "    description: Union[str, None] = None\n",
    "    country: str\n",
    "    salary: int\n",
    "    tax: Union[float,None] = None\n",
    "\n",
    "\n",
    "app = FastAPI()\n",
    "\n",
    "@app.post('/items/')\n",
    "async def create_item(item: Item):\n",
    "    item_dict = item.dict()\n",
    "    if item.tax:\n",
    "        price_with_tax = item.salary + item.tax\n",
    "        item_dict.update\n",
    "        ({'price_with_tax':price_with_tax})\n",
    "        item.name = item.name.capitalize()\n",
    "        item_dict.update({'name':item.name})\n",
    "        return item_dict\n",
    "    \n",
    "uvicorn.run(app, port=8000)"
   ]
  },
  {
   "attachments": {},
   "cell_type": "markdown",
   "metadata": {},
   "source": [
    "Request body + path parameters"
   ]
  },
  {
   "cell_type": "code",
   "execution_count": 14,
   "metadata": {},
   "outputs": [
    {
     "name": "stderr",
     "output_type": "stream",
     "text": [
      "INFO:     Started server process [26043]\n",
      "INFO:     Waiting for application startup.\n",
      "INFO:     Application startup complete.\n",
      "INFO:     Uvicorn running on http://127.0.0.1:8000 (Press CTRL+C to quit)\n"
     ]
    },
    {
     "name": "stdout",
     "output_type": "stream",
     "text": [
      "INFO:     127.0.0.1:47560 - \"GET / HTTP/1.1\" 404 Not Found\n",
      "INFO:     127.0.0.1:47560 - \"GET /docs HTTP/1.1\" 200 OK\n",
      "INFO:     127.0.0.1:47560 - \"GET /openapi.json HTTP/1.1\" 200 OK\n",
      "INFO:     127.0.0.1:42086 - \"PUT /items/1 HTTP/1.1\" 200 OK\n"
     ]
    },
    {
     "name": "stderr",
     "output_type": "stream",
     "text": [
      "INFO:     Shutting down\n",
      "INFO:     Waiting for application shutdown.\n",
      "INFO:     Application shutdown complete.\n",
      "INFO:     Finished server process [26043]\n"
     ]
    }
   ],
   "source": [
    "from fastapi import FastAPI\n",
    "from pydantic import BaseModel\n",
    "\n",
    "\n",
    "class Item(BaseModel):\n",
    "    name: str\n",
    "    address: str | None = None\n",
    "    tel: int | None = None\n",
    "    salary: int\n",
    "    tax: float | None = None\n",
    "\n",
    "\n",
    "app = FastAPI()\n",
    "\n",
    "@app.put('/items/{item_id}')\n",
    "async def create_item(item_id:int, item:Item, q:str|None = None):\n",
    "    result = {'item_id':item_id, **item.dict()}\n",
    "    if q:\n",
    "        result.update({'q': q})\n",
    "    return result\n",
    "\n",
    "\n",
    "uvicorn.run(app, port=8000)"
   ]
  },
  {
   "cell_type": "code",
   "execution_count": null,
   "metadata": {},
   "outputs": [],
   "source": []
  }
 ],
 "metadata": {
  "kernelspec": {
   "display_name": "DeepLearning",
   "language": "python",
   "name": "python3"
  },
  "language_info": {
   "codemirror_mode": {
    "name": "ipython",
    "version": 3
   },
   "file_extension": ".py",
   "mimetype": "text/x-python",
   "name": "python",
   "nbconvert_exporter": "python",
   "pygments_lexer": "ipython3",
   "version": "3.10.9"
  }
 },
 "nbformat": 4,
 "nbformat_minor": 4
}
