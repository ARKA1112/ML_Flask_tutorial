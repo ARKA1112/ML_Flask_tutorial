{
 "cells": [
  {
   "cell_type": "code",
   "execution_count": 1,
   "metadata": {},
   "outputs": [],
   "source": [
    "import nest_asyncio\n",
    "import uvicorn\n",
    "\n",
    "\n",
    "nest_asyncio.apply()"
   ]
  },
  {
   "cell_type": "code",
   "execution_count": 3,
   "metadata": {},
   "outputs": [
    {
     "name": "stderr",
     "output_type": "stream",
     "text": [
      "INFO:     Started server process [18879]\n",
      "INFO:     Waiting for application startup.\n",
      "INFO:     Application startup complete.\n",
      "INFO:     Uvicorn running on http://127.0.0.1:8000 (Press CTRL+C to quit)\n"
     ]
    },
    {
     "name": "stdout",
     "output_type": "stream",
     "text": [
      "INFO:     127.0.0.1:53394 - \"GET / HTTP/1.1\" 404 Not Found\n",
      "INFO:     127.0.0.1:53394 - \"GET /docs HTTP/1.1\" 200 OK\n",
      "INFO:     127.0.0.1:53394 - \"GET /openapi.json HTTP/1.1\" 200 OK\n",
      "INFO:     127.0.0.1:44428 - \"GET /items/ HTTP/1.1\" 200 OK\n"
     ]
    },
    {
     "name": "stderr",
     "output_type": "stream",
     "text": [
      "INFO:     Shutting down\n",
      "INFO:     Waiting for application shutdown.\n",
      "INFO:     Application shutdown complete.\n",
      "INFO:     Finished server process [18879]\n"
     ]
    }
   ],
   "source": [
    "from typing import Annotated\n",
    "\n",
    "from fastapi import Cookie, FastAPI\n",
    "\n",
    "\n",
    "app = FastAPI()\n",
    "\n",
    "@app.get('/items/')\n",
    "async def read_items(ads_id: Annotated[str | None, Cookie()] = None):\n",
    "    return {'ads_id': ads_id}\n",
    "\n",
    "\n",
    "\n",
    "uvicorn.run(app, port=8000)"
   ]
  },
  {
   "attachments": {},
   "cell_type": "markdown",
   "metadata": {},
   "source": [
    "## Headers"
   ]
  },
  {
   "cell_type": "code",
   "execution_count": 1,
   "metadata": {},
   "outputs": [],
   "source": [
    "import nest_asyncio\n",
    "import uvicorn\n",
    "\n",
    "nest_asyncio.apply()\n"
   ]
  },
  {
   "cell_type": "code",
   "execution_count": 2,
   "metadata": {},
   "outputs": [
    {
     "name": "stderr",
     "output_type": "stream",
     "text": [
      "INFO:     Started server process [6005]\n",
      "INFO:     Waiting for application startup.\n",
      "INFO:     Application startup complete.\n",
      "INFO:     Uvicorn running on http://127.0.0.1:8000 (Press CTRL+C to quit)\n"
     ]
    },
    {
     "name": "stdout",
     "output_type": "stream",
     "text": [
      "INFO:     127.0.0.1:55670 - \"GET / HTTP/1.1\" 404 Not Found\n",
      "INFO:     127.0.0.1:55670 - \"GET /favicon.ico HTTP/1.1\" 404 Not Found\n",
      "INFO:     127.0.0.1:55670 - \"GET /docs HTTP/1.1\" 200 OK\n",
      "INFO:     127.0.0.1:55670 - \"GET /openapi.json HTTP/1.1\" 200 OK\n",
      "INFO:     127.0.0.1:46972 - \"GET /items/ HTTP/1.1\" 200 OK\n"
     ]
    },
    {
     "name": "stderr",
     "output_type": "stream",
     "text": [
      "INFO:     Shutting down\n",
      "INFO:     Waiting for application shutdown.\n",
      "INFO:     Application shutdown complete.\n",
      "INFO:     Finished server process [6005]\n"
     ]
    }
   ],
   "source": [
    "from typing import Annotated\n",
    "\n",
    "\n",
    "from fastapi import FastAPI, Header\n",
    "\n",
    "app = FastAPI()\n",
    "\n",
    "@app.get('/items/')\n",
    "async def read_items(user_agent: Annotated[str | None, Header()] = None):\n",
    "    return {'User-Agent': user_agent}\n",
    "\n",
    "\n",
    "uvicorn.run(app, port=8000)"
   ]
  },
  {
   "cell_type": "code",
   "execution_count": 3,
   "metadata": {},
   "outputs": [
    {
     "name": "stderr",
     "output_type": "stream",
     "text": [
      "INFO:     Started server process [6005]\n",
      "INFO:     Waiting for application startup.\n",
      "INFO:     Application startup complete.\n",
      "INFO:     Uvicorn running on http://127.0.0.1:8000 (Press CTRL+C to quit)\n"
     ]
    },
    {
     "name": "stdout",
     "output_type": "stream",
     "text": [
      "INFO:     127.0.0.1:50640 - \"GET / HTTP/1.1\" 404 Not Found\n",
      "INFO:     127.0.0.1:50640 - \"GET /docs HTTP/1.1\" 200 OK\n",
      "INFO:     127.0.0.1:50640 - \"GET /openapi.json HTTP/1.1\" 200 OK\n",
      "INFO:     127.0.0.1:52498 - \"GET /items/ HTTP/1.1\" 200 OK\n"
     ]
    },
    {
     "name": "stderr",
     "output_type": "stream",
     "text": [
      "INFO:     Shutting down\n",
      "INFO:     Waiting for application shutdown.\n",
      "INFO:     Application shutdown complete.\n",
      "INFO:     Finished server process [6005]\n"
     ]
    }
   ],
   "source": [
    "#also works with duplicate values\n",
    "\n",
    "\n",
    "from typing import Annotated\n",
    "\n",
    "from fastapi import FastAPI, Header\n",
    "\n",
    "\n",
    "app = FastAPI()\n",
    "\n",
    "\n",
    "@app.get('/items/')\n",
    "async def read_items(x_token: Annotated[list[str] | None, Header()] = None):\n",
    "    return {'X-token values': x_token}\n",
    "\n",
    "\n",
    "uvicorn.run(app, port=8000)"
   ]
  },
  {
   "attachments": {},
   "cell_type": "markdown",
   "metadata": {},
   "source": [
    "## Response Model"
   ]
  },
  {
   "cell_type": "code",
   "execution_count": 5,
   "metadata": {},
   "outputs": [
    {
     "name": "stderr",
     "output_type": "stream",
     "text": [
      "INFO:     Started server process [6005]\n",
      "INFO:     Waiting for application startup.\n",
      "INFO:     Application startup complete.\n",
      "INFO:     Uvicorn running on http://127.0.0.1:8000 (Press CTRL+C to quit)\n"
     ]
    },
    {
     "name": "stdout",
     "output_type": "stream",
     "text": [
      "INFO:     127.0.0.1:33526 - \"GET /docs HTTP/1.1\" 200 OK\n",
      "INFO:     127.0.0.1:33526 - \"GET /openapi.json HTTP/1.1\" 200 OK\n",
      "INFO:     127.0.0.1:38544 - \"POST /items/ HTTP/1.1\" 200 OK\n",
      "INFO:     127.0.0.1:58944 - \"GET /items/ HTTP/1.1\" 200 OK\n",
      "INFO:     127.0.0.1:49294 - \"POST /items/ HTTP/1.1\" 422 Unprocessable Entity\n",
      "INFO:     127.0.0.1:49374 - \"POST /items/ HTTP/1.1\" 200 OK\n",
      "INFO:     127.0.0.1:33540 - \"POST /items/ HTTP/1.1\" 200 OK\n"
     ]
    },
    {
     "name": "stderr",
     "output_type": "stream",
     "text": [
      "INFO:     Shutting down\n",
      "INFO:     Waiting for application shutdown.\n",
      "INFO:     Application shutdown complete.\n",
      "INFO:     Finished server process [6005]\n"
     ]
    }
   ],
   "source": [
    "from fastapi import FastAPI\n",
    "from pydantic import BaseModel\n",
    "\n",
    "app = FastAPI()\n",
    "\n",
    "\n",
    "class Item(BaseModel):\n",
    "    name: str\n",
    "    description: str | None = None\n",
    "    price: float\n",
    "    tax: float | None = None\n",
    "    tags: list[str] = []\n",
    "\n",
    "\n",
    "@app.post(\"/items/\")\n",
    "async def create_item(item: Item) -> Item:\n",
    "    return item\n",
    "\n",
    "\n",
    "@app.get('/items/')\n",
    "async def read_items() -> list[Item]:\n",
    "    return [\n",
    "        Item(name='Portal Gun', price=42.0),\n",
    "        Item(name='Plumbus', price=32.0),\n",
    "    ]\n",
    "\n",
    "uvicorn.run(app, port=8000)"
   ]
  },
  {
   "attachments": {},
   "cell_type": "markdown",
   "metadata": {},
   "source": [
    "### response_model Parameter"
   ]
  },
  {
   "cell_type": "code",
   "execution_count": 6,
   "metadata": {},
   "outputs": [
    {
     "name": "stderr",
     "output_type": "stream",
     "text": [
      "INFO:     Started server process [6005]\n",
      "INFO:     Waiting for application startup.\n",
      "INFO:     Application startup complete.\n",
      "INFO:     Uvicorn running on http://127.0.0.1:8000 (Press CTRL+C to quit)\n"
     ]
    },
    {
     "name": "stdout",
     "output_type": "stream",
     "text": [
      "INFO:     127.0.0.1:51288 - \"GET /docs HTTP/1.1\" 200 OK\n",
      "INFO:     127.0.0.1:51288 - \"GET /openapi.json HTTP/1.1\" 200 OK\n",
      "INFO:     127.0.0.1:54914 - \"POST /items/ HTTP/1.1\" 200 OK\n",
      "INFO:     127.0.0.1:34646 - \"GET /items/ HTTP/1.1\" 200 OK\n"
     ]
    },
    {
     "name": "stderr",
     "output_type": "stream",
     "text": [
      "INFO:     Shutting down\n",
      "INFO:     Waiting for application shutdown.\n",
      "INFO:     Application shutdown complete.\n",
      "INFO:     Finished server process [6005]\n"
     ]
    }
   ],
   "source": [
    "from typing import Any\n",
    "\n",
    "from fastapi import FastAPI\n",
    "from pydantic import BaseModel\n",
    "\n",
    "app = FastAPI()\n",
    "\n",
    "\n",
    "class Item(BaseModel):\n",
    "    name: str\n",
    "    description: str | None = None\n",
    "    price: float\n",
    "    tax: float | None = None\n",
    "    tags: list[str] = []\n",
    "\n",
    "\n",
    "\n",
    "@app.post('/items/', response_model=Item)\n",
    "async def create_item(item: Item)  -> Any:\n",
    "    return item\n",
    "\n",
    "\n",
    "@app.get('/items/', response_model=list[Item])\n",
    "async def read_items() -> Any:\n",
    "    return [\n",
    "        {'name': 'Portal Gun', 'price': 42.0},\n",
    "        {'name': 'Plumbus', 'price': 32.0}\n",
    "    ]\n",
    "\n",
    "\n",
    "\n",
    "uvicorn.run(app, port=8000)"
   ]
  },
  {
   "cell_type": "code",
   "execution_count": 7,
   "metadata": {},
   "outputs": [
    {
     "name": "stderr",
     "output_type": "stream",
     "text": [
      "INFO:     Started server process [6005]\n",
      "INFO:     Waiting for application startup.\n",
      "INFO:     Application startup complete.\n",
      "INFO:     Uvicorn running on http://127.0.0.1:8000 (Press CTRL+C to quit)\n"
     ]
    },
    {
     "name": "stdout",
     "output_type": "stream",
     "text": [
      "INFO:     127.0.0.1:36194 - \"GET /docs HTTP/1.1\" 200 OK\n",
      "INFO:     127.0.0.1:36194 - \"GET /openapi.json HTTP/1.1\" 200 OK\n",
      "INFO:     127.0.0.1:46736 - \"POST /user/ HTTP/1.1\" 200 OK\n"
     ]
    },
    {
     "name": "stderr",
     "output_type": "stream",
     "text": [
      "INFO:     Shutting down\n",
      "INFO:     Waiting for application shutdown.\n",
      "INFO:     Application shutdown complete.\n",
      "INFO:     Finished server process [6005]\n"
     ]
    }
   ],
   "source": [
    "#return the same input data\n",
    "\n",
    "from fastapi import FastAPI\n",
    "from pydantic import BaseModel, EmailStr\n",
    "\n",
    "app = FastAPI()\n",
    "\n",
    "\n",
    "class UserIn(BaseModel):\n",
    "    username: str\n",
    "    password: str\n",
    "    email: EmailStr\n",
    "    full_name: str | None = None\n",
    "\n",
    "\n",
    "\n",
    "# Dont do this in production\n",
    "\n",
    "@app.post('/user/')\n",
    "async def create_user(user: UserIn) -> UserIn:\n",
    "    return user\n",
    "\n",
    "\n",
    "uvicorn.run(app, port=8000)"
   ]
  },
  {
   "attachments": {},
   "cell_type": "markdown",
   "metadata": {},
   "source": [
    "Add an output model"
   ]
  },
  {
   "cell_type": "code",
   "execution_count": 9,
   "metadata": {},
   "outputs": [
    {
     "name": "stderr",
     "output_type": "stream",
     "text": [
      "INFO:     Started server process [6005]\n",
      "INFO:     Waiting for application startup.\n",
      "INFO:     Application startup complete.\n",
      "INFO:     Uvicorn running on http://127.0.0.1:8000 (Press CTRL+C to quit)\n"
     ]
    },
    {
     "name": "stdout",
     "output_type": "stream",
     "text": [
      "INFO:     127.0.0.1:49674 - \"GET /docs HTTP/1.1\" 200 OK\n",
      "INFO:     127.0.0.1:49674 - \"GET /openapi.json HTTP/1.1\" 200 OK\n",
      "INFO:     127.0.0.1:35540 - \"POST /user/ HTTP/1.1\" 200 OK\n"
     ]
    },
    {
     "name": "stderr",
     "output_type": "stream",
     "text": [
      "INFO:     Shutting down\n",
      "INFO:     Waiting for application shutdown.\n",
      "INFO:     Application shutdown complete.\n",
      "INFO:     Finished server process [6005]\n"
     ]
    }
   ],
   "source": [
    "from typing import Any\n",
    "\n",
    "\n",
    "from fastapi import FastAPI\n",
    "from pydantic import BaseModel, EmailStr\n",
    "\n",
    "\n",
    "app = FastAPI()\n",
    "\n",
    "class UserIn(BaseModel):\n",
    "    username: str\n",
    "    password: str\n",
    "    email: EmailStr\n",
    "    full_name: str | None = None\n",
    "\n",
    "\n",
    "class UserOut(BaseModel):\n",
    "    username: str\n",
    "    email: EmailStr\n",
    "    full_name: str | None = None\n",
    "\n",
    "@app.post('/user/', response_model=UserOut)\n",
    "async def create_user(user: UserIn) -> Any:\n",
    "    return user\n",
    "\n",
    "\n",
    "#the response model declared here is UserOut and not UserIn and it dosent include the password\n",
    "\n",
    "uvicorn.run(app, port=8000)"
   ]
  },
  {
   "cell_type": "code",
   "execution_count": 10,
   "metadata": {},
   "outputs": [
    {
     "name": "stderr",
     "output_type": "stream",
     "text": [
      "INFO:     Started server process [6005]\n",
      "INFO:     Waiting for application startup.\n",
      "INFO:     Application startup complete.\n",
      "INFO:     Uvicorn running on http://127.0.0.1:8000 (Press CTRL+C to quit)\n"
     ]
    },
    {
     "name": "stdout",
     "output_type": "stream",
     "text": [
      "INFO:     127.0.0.1:60584 - \"GET /docs HTTP/1.1\" 200 OK\n",
      "INFO:     127.0.0.1:60584 - \"GET /openapi.json HTTP/1.1\" 200 OK\n",
      "INFO:     127.0.0.1:53922 - \"POST /user/ HTTP/1.1\" 200 OK\n"
     ]
    },
    {
     "name": "stderr",
     "output_type": "stream",
     "text": [
      "INFO:     Shutting down\n",
      "INFO:     Waiting for application shutdown.\n",
      "INFO:     Application shutdown complete.\n",
      "INFO:     Finished server process [6005]\n"
     ]
    }
   ],
   "source": [
    "#data filtering\n",
    "\n",
    "from fastapi import FastAPI\n",
    "\n",
    "from pydantic import BaseModel, EmailStr\n",
    "\n",
    "app = FastAPI()\n",
    "\n",
    "\n",
    "class BaseUser(BaseModel):\n",
    "    username: str\n",
    "    email: EmailStr\n",
    "    full_name: str | None = None\n",
    "\n",
    "class UserIn(BaseUser):\n",
    "    password: str\n",
    "\n",
    "\n",
    "@app.post('/user/')\n",
    "async def create_user(user: UserIn) -> BaseUser:\n",
    "    return user\n",
    "\n",
    "\n",
    "\n",
    "uvicorn.run(app, port=8000)"
   ]
  },
  {
   "cell_type": "code",
   "execution_count": 12,
   "metadata": {},
   "outputs": [
    {
     "name": "stderr",
     "output_type": "stream",
     "text": [
      "INFO:     Started server process [6005]\n",
      "INFO:     Waiting for application startup.\n",
      "INFO:     Application startup complete.\n",
      "INFO:     Uvicorn running on http://127.0.0.1:8000 (Press CTRL+C to quit)\n"
     ]
    },
    {
     "name": "stdout",
     "output_type": "stream",
     "text": [
      "INFO:     127.0.0.1:60254 - \"GET /portal/?teleport=true HTTP/1.1\" 307 Temporary Redirect\n"
     ]
    },
    {
     "name": "stderr",
     "output_type": "stream",
     "text": [
      "INFO:     Shutting down\n",
      "INFO:     Waiting for application shutdown.\n",
      "INFO:     Application shutdown complete.\n",
      "INFO:     Finished server process [6005]\n"
     ]
    }
   ],
   "source": [
    "from fastapi import FastAPI, Response\n",
    "from fastapi.responses import JSONResponse, RedirectResponse\n",
    "\n",
    "\n",
    "app = FastAPI()\n",
    "\n",
    "\n",
    "\n",
    "@app.get('/portal/')\n",
    "async def get_portal(teleport: bool = False) -> Response:\n",
    "    if teleport:\n",
    "        return RedirectResponse(url=\"https://www.youtube.com/watch?v=dQw4w9WgXcQ\")\n",
    "    return JSONResponse(content={\"message\":\"Here's your interdimesional portal.\"})\n",
    "\n",
    "\n",
    "uvicorn.run(app,port=8000)"
   ]
  },
  {
   "attachments": {},
   "cell_type": "markdown",
   "metadata": {},
   "source": [
    "Annotate a Response Subclass"
   ]
  },
  {
   "cell_type": "code",
   "execution_count": 2,
   "metadata": {},
   "outputs": [],
   "source": [
    "import nest_asyncio\n",
    "import uvicorn\n",
    "nest_asyncio.apply()"
   ]
  },
  {
   "cell_type": "code",
   "execution_count": 3,
   "metadata": {},
   "outputs": [
    {
     "name": "stderr",
     "output_type": "stream",
     "text": [
      "INFO:     Started server process [9523]\n",
      "INFO:     Waiting for application startup.\n",
      "INFO:     Application startup complete.\n",
      "INFO:     Uvicorn running on http://127.0.0.1:8000 (Press CTRL+C to quit)\n"
     ]
    },
    {
     "name": "stdout",
     "output_type": "stream",
     "text": [
      "INFO:     127.0.0.1:58178 - \"GET / HTTP/1.1\" 404 Not Found\n",
      "INFO:     127.0.0.1:58178 - \"GET /favicon.ico HTTP/1.1\" 404 Not Found\n",
      "INFO:     127.0.0.1:58178 - \"GET /docs HTTP/1.1\" 200 OK\n",
      "INFO:     127.0.0.1:58178 - \"GET /openapi.json HTTP/1.1\" 200 OK\n",
      "INFO:     127.0.0.1:58178 - \"GET /teleport HTTP/1.1\" 307 Temporary Redirect\n"
     ]
    },
    {
     "name": "stderr",
     "output_type": "stream",
     "text": [
      "INFO:     Shutting down\n",
      "INFO:     Waiting for application shutdown.\n",
      "INFO:     Application shutdown complete.\n",
      "INFO:     Finished server process [9523]\n"
     ]
    }
   ],
   "source": [
    "#You can also use a subclass of Response in the type annotation:\n",
    "\n",
    "\n",
    "from fastapi import FastAPI\n",
    "from fastapi.responses import RedirectResponse\n",
    "\n",
    "\n",
    "app = FastAPI()\n",
    "\n",
    "\n",
    "@app.get('/teleport')\n",
    "async def get_teleport() -> RedirectResponse:\n",
    "    return RedirectResponse(url='https://www.youtube.com/watch?v=dQw4w9WgXcQ')\n",
    "\n",
    "\n",
    "uvicorn.run(app, port=8000)"
   ]
  },
  {
   "cell_type": "code",
   "execution_count": null,
   "metadata": {},
   "outputs": [],
   "source": [
    "from fastapi import FastAPI, Response\n",
    "\n",
    "from fastapi.responses import RedirectResponse\n",
    "\n",
    "\n",
    "app = FastAPI()\n",
    "\n",
    "@app.get('/portal')\n",
    "async def get_portal(teleport: bool = False) -> Response | dict:\n",
    "    if teleport:\n",
    "        return RedirectResponse(url=\"https://www.youtube.com\")\n",
    "    return {'message': \"here's your interdimentional portal\"}\n",
    "\n",
    "uvicorn.run(app, port=8000)"
   ]
  },
  {
   "attachments": {},
   "cell_type": "markdown",
   "metadata": {},
   "source": [
    "Disable Response Model"
   ]
  },
  {
   "cell_type": "code",
   "execution_count": null,
   "metadata": {},
   "outputs": [],
   "source": [
    "from fastapi import FastAPI\n",
    "from pydantic import BaseModel\n",
    "\n",
    "app = FastAPI()\n",
    "\n",
    "\n",
    "class Item(BaseModel):\n",
    "    name: str\n",
    "    description: str | None = None\n",
    "    price: float\n",
    "    tax: float = 10.5\n",
    "    tags: list[str] = []\n",
    "\n",
    "\n",
    "items = {\n",
    "    \"foo\": {\"name\": \"Foo\", \"price\": 50.2},\n",
    "    \"bar\": {\"name\": \"Bar\", \"description\": \"The bartenders\", \"price\": 62, \"tax\": 20.2},\n",
    "    \"baz\": {\"name\": \"Baz\", \"description\": None, \"price\": 50.2, \"tax\": 10.5, \"tags\": []},\n",
    "}\n",
    "\n",
    "\n",
    "@app.get(\"/items/{item_id}\", response_model=Item, response_model_exclude_unset=True)\n",
    "async def read_item(item_id: str):\n",
    "    return items[item_id]\n",
    "\n",
    "\n",
    "uvicorn.run(app, port=8000)"
   ]
  },
  {
   "cell_type": "code",
   "execution_count": 11,
   "metadata": {},
   "outputs": [
    {
     "name": "stderr",
     "output_type": "stream",
     "text": [
      "INFO:     Shutting down\n",
      "INFO:     Waiting for application shutdown.\n",
      "INFO:     Application shutdown complete.\n",
      "INFO:     Finished server process [9523]\n"
     ]
    }
   ],
   "source": [
    "#fastapi is smart enough to realize that even though description, tax and tags have the same values as the defaults they were set explicityly\n",
    "\n",
    "\n",
    "\n",
    "\n",
    "from fastapi import FastAPI\n",
    "from pydantic import BaseModel\n",
    "\n",
    "\n",
    "app = FastAPI()\n",
    "\n",
    "\n",
    "class Item(BaseModel):\n",
    "    name: str\n",
    "    description: str | None = None\n",
    "    price: float\n",
    "    tax: float = 10.5\n",
    "\n",
    "items = {\n",
    "    \"foo\": {'name': 'Foo', 'price': 50.2},\n",
    "    \"bar\": {'name': \"Bar\", \"description\":\"The Bar fighters\",\"price\":62, \"tax\": 20.2},\n",
    "    \"baz\": {\n",
    "    \"name\": \"Baz\",\n",
    "    \"description\": \"there goes my baz\",\n",
    "    \"price\": 50.2,\n",
    "    \"tax\": 10.5,\n",
    "    },\n",
    "}\n",
    "\n",
    "\n",
    "@app.get(\n",
    "    \"/items/{item_id}/name\",\n",
    "    response_model=Item,\n",
    "    response_model_include={\"name\", \"description\"},\n",
    ")\n",
    "async def read_item_name(item_id: str):\n",
    "    return items[item_id]\n",
    "\n",
    "\n",
    "@app.get(\"/items/{item_id}/public\", response_model=Item, response_model_exclude={\"tax\"})\n",
    "async def read_item_public_data(item_id: str):\n",
    "    return items[item_id]\n",
    "\n",
    "\n",
    "\n",
    "\n",
    "uvicorn.run(app, port=8000)"
   ]
  },
  {
   "cell_type": "code",
   "execution_count": null,
   "metadata": {},
   "outputs": [],
   "source": []
  }
 ],
 "metadata": {
  "kernelspec": {
   "display_name": "DeepLearning",
   "language": "python",
   "name": "python3"
  },
  "language_info": {
   "codemirror_mode": {
    "name": "ipython",
    "version": 3
   },
   "file_extension": ".py",
   "mimetype": "text/x-python",
   "name": "python",
   "nbconvert_exporter": "python",
   "pygments_lexer": "ipython3",
   "version": "3.10.9"
  },
  "orig_nbformat": 4
 },
 "nbformat": 4,
 "nbformat_minor": 2
}
