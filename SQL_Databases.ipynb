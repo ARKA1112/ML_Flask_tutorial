{
 "cells": [
  {
   "attachments": {},
   "cell_type": "markdown",
   "metadata": {},
   "source": [
    "SQL (Relational) Databases\n",
    "\n",
    "\n",
    "\n"
   ]
  },
  {
   "cell_type": "code",
   "execution_count": null,
   "metadata": {},
   "outputs": [],
   "source": [
    "# Here we will use sqlalchemy as the python sql toolkit and object relational mapper\n",
    "\n",
    "# And we will use the sqlite as db, because it uses a single file and Python has integrated support."
   ]
  },
  {
   "attachments": {},
   "cell_type": "markdown",
   "metadata": {},
   "source": [
    "ORM"
   ]
  },
  {
   "cell_type": "code",
   "execution_count": null,
   "metadata": {},
   "outputs": [],
   "source": [
    "'''FastAPI works with any database and any style of library to talk to the database\n",
    "A common pattern is to use an ORM: an object relational mapping library\n",
    "\n",
    "An ORM has tools to convert('map') between objects in code and database tables('relations')\n",
    "\n",
    "With an ORM you normally create a class that represents a table in a SQL database, each attribute of the class represents a column with a name and a type'''"
   ]
  },
  {
   "attachments": {},
   "cell_type": "markdown",
   "metadata": {},
   "source": [
    "Create the SQLAlchemy parts"
   ]
  },
  {
   "cell_type": "code",
   "execution_count": null,
   "metadata": {},
   "outputs": [],
   "source": [
    "#create database.py\n",
    "\n",
    "#create models.py\n",
    "\n",
    "\n",
    "\n",
    "#create schemas.py\n",
    "#To avoid confusion betweenthe SQLAlchemy models and the pydantic models we will have the file models.py with the SQLAlchemy models, and the file schemas.py with the pydantic models\n",
    "\n",
    "#create crud.py [Create Read Update Delete]\n",
    "#..although in this example we are only creating and reading"
   ]
  }
 ],
 "metadata": {
  "kernelspec": {
   "display_name": "DeepLearning",
   "language": "python",
   "name": "python3"
  },
  "language_info": {
   "name": "python",
   "version": "3.10.9"
  },
  "orig_nbformat": 4
 },
 "nbformat": 4,
 "nbformat_minor": 2
}
