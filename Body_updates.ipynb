{
 "cells": [
  {
   "cell_type": "code",
   "execution_count": 1,
   "metadata": {},
   "outputs": [],
   "source": [
    "import nest_asyncio\n",
    "import uvicorn\n",
    "\n",
    "nest_asyncio.apply()"
   ]
  },
  {
   "cell_type": "code",
   "execution_count": 3,
   "metadata": {},
   "outputs": [
    {
     "name": "stderr",
     "output_type": "stream",
     "text": [
      "INFO:     Started server process [24182]\n",
      "INFO:     Waiting for application startup.\n",
      "INFO:     Application startup complete.\n",
      "INFO:     Uvicorn running on http://127.0.0.1:8000 (Press CTRL+C to quit)\n"
     ]
    },
    {
     "name": "stdout",
     "output_type": "stream",
     "text": [
      "INFO:     127.0.0.1:60478 - \"GET /docs HTTP/1.1\" 200 OK\n",
      "INFO:     127.0.0.1:60478 - \"GET /openapi.json HTTP/1.1\" 200 OK\n",
      "INFO:     127.0.0.1:60478 - \"GET /items/foo HTTP/1.1\" 200 OK\n",
      "INFO:     127.0.0.1:40986 - \"PUT /items/foo HTTP/1.1\" 200 OK\n",
      "INFO:     127.0.0.1:52748 - \"GET /items/foo HTTP/1.1\" 200 OK\n"
     ]
    },
    {
     "name": "stderr",
     "output_type": "stream",
     "text": [
      "INFO:     Shutting down\n",
      "INFO:     Waiting for application shutdown.\n",
      "INFO:     Application shutdown complete.\n",
      "INFO:     Finished server process [24182]\n"
     ]
    }
   ],
   "source": [
    "#Update replacing with put\n",
    "#PUT is used to receive data that should replace the existing data.\n",
    "\n",
    "from fastapi import FastAPI\n",
    "from fastapi.encoders import jsonable_encoder\n",
    "from pydantic import BaseModel\n",
    "\n",
    "app = FastAPI()\n",
    "\n",
    "\n",
    "class Item(BaseModel):\n",
    "    name: str | None = None\n",
    "    description: str | None = None\n",
    "    price: float | None = None\n",
    "    tax: float = 10.5\n",
    "    tags: list[str] = []\n",
    "\n",
    "items = {\n",
    "    \"foo\": {\"name\": \"Foo\", \"price\": 50.2},\n",
    "    \"bar\": {\"name\": \"Bar\", \"description\": \"The bartenders\", \"price\": 62, \"tax\": 20.2},\n",
    "    \"baz\": {\"name\": \"Baz\", \"description\": None, \"price\": 50.2, \"tax\": 10.5, \"tags\": []},\n",
    "}\n",
    "\n",
    "@app.get('/items/{item_id}', response_model=Item)\n",
    "async def read_item(item_id:str):\n",
    "    return items[item_id]\n",
    "\n",
    "@app.put('/items/{item_id}', response_model=Item)\n",
    "async def update_item(item_id: str, item: Item):\n",
    "    update_item_encoded = jsonable_encoder(item)\n",
    "    items[item_id] = update_item_encoded\n",
    "    return update_item_encoded\n",
    "\n",
    "uvicorn.run(app, port=8000)\n",
    "\n",
    "\n",
    "\n",
    "\n"
   ]
  },
  {
   "attachments": {},
   "cell_type": "markdown",
   "metadata": {},
   "source": [
    "Partial updates with PATCH"
   ]
  },
  {
   "cell_type": "code",
   "execution_count": 5,
   "metadata": {},
   "outputs": [
    {
     "name": "stderr",
     "output_type": "stream",
     "text": [
      "INFO:     Started server process [24182]\n",
      "INFO:     Waiting for application startup.\n",
      "INFO:     Application startup complete.\n",
      "INFO:     Uvicorn running on http://127.0.0.1:8000 (Press CTRL+C to quit)\n"
     ]
    },
    {
     "name": "stdout",
     "output_type": "stream",
     "text": [
      "INFO:     127.0.0.1:47742 - \"GET /docs HTTP/1.1\" 200 OK\n",
      "INFO:     127.0.0.1:47742 - \"GET /openapi.json HTTP/1.1\" 200 OK\n",
      "INFO:     127.0.0.1:47742 - \"GET /items/bar HTTP/1.1\" 200 OK\n",
      "INFO:     127.0.0.1:34520 - \"PATCH /items/bar HTTP/1.1\" 200 OK\n"
     ]
    }
   ],
   "source": [
    "#Using pydantic's exclude_unset parameter\n",
    "\n",
    "#If you want to receive partial updates, its very useful to use the parameter exclude_unset in pydantic's model's .dict()\n",
    "\n",
    "\n",
    "#Like item.dict(exclude_unset = True)\n",
    "\n",
    "\n",
    "from fastapi import FastAPI\n",
    "from fastapi.encoders import jsonable_encoder\n",
    "from pydantic import BaseModel\n",
    "\n",
    "app = FastAPI()\n",
    "\n",
    "\n",
    "class Item(BaseModel):\n",
    "    name: str | None = None\n",
    "    description: str | None = None\n",
    "    price: float | None = None\n",
    "    tax: float = 10.5\n",
    "    tags: list[str] = []\n",
    "\n",
    "\n",
    "items = {\n",
    "    \"foo\": {\"name\": \"Foo\", \"price\": 50.2},\n",
    "    \"bar\": {\"name\": \"Bar\", \"description\": \"The bartenders\", \"price\": 62, \"tax\": 20.2},\n",
    "    \"baz\": {\"name\": \"Baz\", \"description\": None, \"price\": 50.2, \"tax\": 10.5, \"tags\": []},\n",
    "}\n",
    "\n",
    "\n",
    "@app.get(\"/items/{item_id}\", response_model=Item)\n",
    "async def read_item(item_id: str):\n",
    "    return items[item_id]\n",
    "\n",
    "\n",
    "@app.patch('/items/{item_id}', response_model = Item)\n",
    "async def update_item(item_id: str, item: Item):\n",
    "    stored_item_data = items[item_id]\n",
    "    stored_item_model = Item(**stored_item_data)\n",
    "    update_data = item.dict(exclude_unset=True)\n",
    "    updated_item = stored_item_model.copy(update=update_data)\n",
    "    items[item_id] = jsonable_encoder(updated_item)\n",
    "    return updated_item\n",
    "\n",
    "\n",
    "uvicorn.run(app, port=8000)"
   ]
  },
  {
   "cell_type": "code",
   "execution_count": null,
   "metadata": {},
   "outputs": [],
   "source": []
  }
 ],
 "metadata": {
  "kernelspec": {
   "display_name": "DeepLearning",
   "language": "python",
   "name": "python3"
  },
  "language_info": {
   "codemirror_mode": {
    "name": "ipython",
    "version": 3
   },
   "file_extension": ".py",
   "mimetype": "text/x-python",
   "name": "python",
   "nbconvert_exporter": "python",
   "pygments_lexer": "ipython3",
   "version": "3.10.9"
  },
  "orig_nbformat": 4
 },
 "nbformat": 4,
 "nbformat_minor": 2
}
