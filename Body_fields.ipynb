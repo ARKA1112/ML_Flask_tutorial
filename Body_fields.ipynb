{
 "cells": [
  {
   "cell_type": "code",
   "execution_count": 1,
   "metadata": {},
   "outputs": [],
   "source": [
    "import nest_asyncio\n",
    "import uvicorn\n",
    "\n",
    "nest_asyncio.apply()"
   ]
  },
  {
   "cell_type": "code",
   "execution_count": 2,
   "metadata": {},
   "outputs": [
    {
     "name": "stderr",
     "output_type": "stream",
     "text": [
      "INFO:     Started server process [30345]\n",
      "INFO:     Waiting for application startup.\n",
      "INFO:     Application startup complete.\n",
      "INFO:     Uvicorn running on http://127.0.0.1:8000 (Press CTRL+C to quit)\n"
     ]
    },
    {
     "name": "stdout",
     "output_type": "stream",
     "text": [
      "INFO:     127.0.0.1:36310 - \"GET / HTTP/1.1\" 404 Not Found\n",
      "INFO:     127.0.0.1:36310 - \"GET /docs HTTP/1.1\" 200 OK\n",
      "INFO:     127.0.0.1:36310 - \"GET /openapi.json HTTP/1.1\" 200 OK\n",
      "INFO:     127.0.0.1:44964 - \"PUT /item/12 HTTP/1.1\" 200 OK\n",
      "INFO:     127.0.0.1:57336 - \"PUT /item/12 HTTP/1.1\" 422 Unprocessable Entity\n"
     ]
    },
    {
     "name": "stderr",
     "output_type": "stream",
     "text": [
      "INFO:     Shutting down\n",
      "INFO:     Waiting for application shutdown.\n",
      "INFO:     Application shutdown complete.\n",
      "INFO:     Finished server process [30345]\n"
     ]
    }
   ],
   "source": [
    "#Applying the field attribute\n",
    "\n",
    "#Declare model attributes\n",
    "\n",
    "from typing import Annotated\n",
    "\n",
    "from fastapi import FastAPI, Body\n",
    "\n",
    "from pydantic import BaseModel, Field\n",
    "\n",
    "\n",
    "\n",
    "app = FastAPI()\n",
    "\n",
    "\n",
    "class Item(BaseModel):\n",
    "    name: str\n",
    "    description: str | None = Field(default = None, title = \"the description of the item\", max_length = 300)\n",
    "    price: float = Field(gt = 0, description = 'The price must be greater than zero')\n",
    "    tax: float | None = None\n",
    "\n",
    "@app.put('/item/{item_id}')\n",
    "async def update_item(item_id: int, item: Annotated[Item, Body(embed=True)]):\n",
    "    results = {'item_id': item_id, 'item': item}\n",
    "    return results\n",
    "\n",
    "\n",
    "\n",
    "uvicorn.run(app, port=8000)"
   ]
  },
  {
   "attachments": {},
   "cell_type": "markdown",
   "metadata": {},
   "source": [
    "## Body Nested-Models"
   ]
  },
  {
   "cell_type": "code",
   "execution_count": 9,
   "metadata": {},
   "outputs": [
    {
     "name": "stderr",
     "output_type": "stream",
     "text": [
      "INFO:     Started server process [31238]\n",
      "INFO:     Waiting for application startup.\n",
      "INFO:     Application startup complete.\n",
      "INFO:     Uvicorn running on http://127.0.0.1:8000 (Press CTRL+C to quit)\n"
     ]
    },
    {
     "name": "stdout",
     "output_type": "stream",
     "text": [
      "INFO:     127.0.0.1:33412 - \"GET / HTTP/1.1\" 404 Not Found\n",
      "INFO:     127.0.0.1:33412 - \"GET /docs HTTP/1.1\" 200 OK\n",
      "INFO:     127.0.0.1:33412 - \"GET /openapi.json HTTP/1.1\" 200 OK\n",
      "INFO:     127.0.0.1:33792 - \"PUT /items/122 HTTP/1.1\" 422 Unprocessable Entity\n",
      "INFO:     127.0.0.1:49438 - \"PUT /items/122 HTTP/1.1\" 200 OK\n"
     ]
    },
    {
     "name": "stderr",
     "output_type": "stream",
     "text": [
      "INFO:     Shutting down\n",
      "INFO:     Waiting for application shutdown.\n",
      "INFO:     Application shutdown complete.\n",
      "INFO:     Finished server process [31238]\n"
     ]
    }
   ],
   "source": [
    "#one can define an attribute to be a subtype example list\n",
    "from fastapi import Query, FastAPI\n",
    "from pydantic import BaseModel\n",
    "from typing import Annotated\n",
    "import uvicorn\n",
    "import nest_asyncio\n",
    "\n",
    "nest_asyncio.apply()\n",
    "\n",
    "\n",
    "app = FastAPI()\n",
    "\n",
    "class Item(BaseModel):\n",
    "    name: str\n",
    "    description: str | None = None\n",
    "    price: Annotated[float, Query(title='Must be greater than zero', gt=0)]\n",
    "    tax: float| None = None\n",
    "    tags: list = []\n",
    "\n",
    "\n",
    "@app.put('/items/{item_id}')\n",
    "async def update_item(item_id: int, item: Item):\n",
    "    results = {'item_id':item_id, 'item': item}\n",
    "    return results\n",
    "\n",
    "\n",
    "uvicorn.run(app, port=8000)\n",
    "\n",
    "\n",
    "\n"
   ]
  },
  {
   "cell_type": "code",
   "execution_count": 10,
   "metadata": {},
   "outputs": [
    {
     "name": "stderr",
     "output_type": "stream",
     "text": [
      "INFO:     Started server process [31238]\n",
      "INFO:     Waiting for application startup.\n",
      "INFO:     Application startup complete.\n",
      "INFO:     Uvicorn running on http://127.0.0.1:8000 (Press CTRL+C to quit)\n"
     ]
    },
    {
     "name": "stdout",
     "output_type": "stream",
     "text": [
      "INFO:     127.0.0.1:43612 - \"GET / HTTP/1.1\" 404 Not Found\n",
      "INFO:     127.0.0.1:43612 - \"GET /docs HTTP/1.1\" 200 OK\n",
      "INFO:     127.0.0.1:43612 - \"GET /openapi.json HTTP/1.1\" 200 OK\n",
      "INFO:     127.0.0.1:34386 - \"PUT /items/123 HTTP/1.1\" 200 OK\n",
      "INFO:     127.0.0.1:36338 - \"PUT /items/123 HTTP/1.1\" 422 Unprocessable Entity\n",
      "INFO:     127.0.0.1:56106 - \"PUT /items/123 HTTP/1.1\" 422 Unprocessable Entity\n",
      "INFO:     127.0.0.1:36202 - \"PUT /items/123 HTTP/1.1\" 422 Unprocessable Entity\n",
      "INFO:     127.0.0.1:38518 - \"GET /docs HTTP/1.1\" 200 OK\n",
      "INFO:     127.0.0.1:38518 - \"GET /openapi.json HTTP/1.1\" 200 OK\n",
      "INFO:     127.0.0.1:49048 - \"PUT /items/4234 HTTP/1.1\" 200 OK\n",
      "INFO:     127.0.0.1:35804 - \"PUT /items/42342 HTTP/1.1\" 200 OK\n",
      "INFO:     127.0.0.1:55360 - \"PUT /items/42342 HTTP/1.1\" 200 OK\n"
     ]
    },
    {
     "name": "stderr",
     "output_type": "stream",
     "text": [
      "INFO:     Shutting down\n",
      "INFO:     Waiting for application shutdown.\n",
      "INFO:     Application shutdown complete.\n",
      "INFO:     Finished server process [31238]\n"
     ]
    }
   ],
   "source": [
    "#one can define an attribute to be a subtype example list\n",
    "from fastapi import Query, FastAPI\n",
    "from pydantic import BaseModel\n",
    "from typing import Annotated\n",
    "import uvicorn\n",
    "import nest_asyncio\n",
    "\n",
    "nest_asyncio.apply()\n",
    "\n",
    "\n",
    "app = FastAPI()\n",
    "\n",
    "class Item(BaseModel):\n",
    "    name: str\n",
    "    description: str | None = None\n",
    "    price: Annotated[float, Query(title='Must be greater than zero', gt=0)]\n",
    "    tax: float| None = None\n",
    "    tags: list[str] = []\n",
    "\n",
    "\n",
    "@app.put('/items/{item_id}')\n",
    "async def update_item(item_id: int, item: Item):\n",
    "    results = {'item_id':item_id, 'item': item}\n",
    "    return results\n",
    "\n",
    "\n",
    "uvicorn.run(app, port=8000)\n",
    "\n",
    "\n",
    "\n"
   ]
  },
  {
   "cell_type": "code",
   "execution_count": null,
   "metadata": {},
   "outputs": [],
   "source": [
    "# Nested models\n",
    "\n",
    "\n",
    "from fastapi import FastAPI\n",
    "from pydantic import BaseModel\n",
    "\n",
    "app = FastAPI()\n",
    "\n",
    "\n",
    "class Image(BaseModel):\n",
    "    url: str\n",
    "    name: str\n",
    "\n",
    "\n",
    "class Item(BaseModel):\n",
    "    name: str\n",
    "    description: str | None = None\n",
    "    price: float\n",
    "    tax: float | None =  None\n",
    "    tags: set[str] = set()\n",
    "    image: Image | None = None\n",
    "\n",
    "\n",
    "@app.put('/items/{item_id}')\n",
    "async def update_item(item_id: int, item: Item):\n",
    "    results = {'item_id': item_id, 'item': Item}\n",
    "    return results\n",
    "\n",
    "\n",
    "uvicorn.run(app, port=8000)\n"
   ]
  },
  {
   "cell_type": "code",
   "execution_count": 13,
   "metadata": {},
   "outputs": [],
   "source": [
    "#attributes with lists of submodels\n",
    "from fastapi import FastAPI\n",
    "from pydantic import BaseModel, HttpUrl\n",
    "\n",
    "app = FastAPI()\n",
    "\n",
    "\n",
    "class Image(BaseModel):\n",
    "    url: HttpUrl\n",
    "    name: str\n",
    "\n",
    "class Item(BaseModel):\n",
    "    name: str\n",
    "    description: str | None = None\n",
    "    price: float\n",
    "    tax: float | None = None\n",
    "    tags: set[str] = set()\n",
    "    images: list[Image] | None = None\n",
    "\n",
    "\n",
    "@app.put('/items/{item_id}')\n",
    "async def update_item(item_id: int, item:Item):\n",
    "    results = {'item_id': item_id, 'item':item}\n",
    "\n",
    "    return results\n",
    "\n"
   ]
  },
  {
   "attachments": {},
   "cell_type": "markdown",
   "metadata": {},
   "source": [
    "Deeply nested models\n"
   ]
  },
  {
   "cell_type": "code",
   "execution_count": 14,
   "metadata": {},
   "outputs": [],
   "source": [
    "from fastapi import FastAPI\n",
    "from pydantic import BaseModel, HttpUrl\n",
    "\n",
    "\n",
    "app = FastAPI()\n",
    "\n",
    "\n",
    "\n",
    "class Image(BaseModel):\n",
    "    url: HttpUrl\n",
    "    name: str\n",
    "\n",
    "\n",
    "class Item(BaseModel):\n",
    "    name: str\n",
    "    description: str | None = None\n",
    "    price: float\n",
    "    tax: float | None = None\n",
    "    tags: set[str] = set()\n",
    "    images: list[Image] | None = None\n",
    "\n",
    "class Offer(BaseModel):\n",
    "    name: str\n",
    "    description: str | None = None\n",
    "    price: float\n",
    "    items: list[Item]\n",
    "\n",
    "\n",
    "@app.post(\"/offers/\")\n",
    "async def create_offer(offer: Offer):\n",
    "    return offer\n",
    "\n",
    "\n"
   ]
  },
  {
   "cell_type": "code",
   "execution_count": null,
   "metadata": {},
   "outputs": [],
   "source": [
    "#Bodies of pure lists\n"
   ]
  }
 ],
 "metadata": {
  "kernelspec": {
   "display_name": "DeepLearning",
   "language": "python",
   "name": "python3"
  },
  "language_info": {
   "codemirror_mode": {
    "name": "ipython",
    "version": 3
   },
   "file_extension": ".py",
   "mimetype": "text/x-python",
   "name": "python",
   "nbconvert_exporter": "python",
   "pygments_lexer": "ipython3",
   "version": "3.10.9"
  },
  "orig_nbformat": 4
 },
 "nbformat": 4,
 "nbformat_minor": 2
}
