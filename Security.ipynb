{
 "cells": [
  {
   "cell_type": "code",
   "execution_count": null,
   "metadata": {},
   "outputs": [],
   "source": [
    "#There are many ways to handle security, authentication and authorization\n",
    "#And it normally is a complex and \"difficult\" topic\n",
    "\n",
    "#FastAPI provides several tools to help with Security easily, rapidly in a standard way without having to study and learn all the security specifications.\n",
    "\n",
    "\n",
    "#OAuth2 - is a specification that defines several ways to handle authentication and authorization, It is what all the systems with login with facebook google twitter github use underneath\n",
    "\n",
    "\n"
   ]
  },
  {
   "attachments": {},
   "cell_type": "markdown",
   "metadata": {},
   "source": [
    "Security - First Steps"
   ]
  },
  {
   "cell_type": "code",
   "execution_count": 2,
   "metadata": {},
   "outputs": [
    {
     "name": "stderr",
     "output_type": "stream",
     "text": [
      "INFO:     Started server process [15296]\n",
      "INFO:     Waiting for application startup.\n",
      "INFO:     Application startup complete.\n",
      "INFO:     Uvicorn running on http://127.0.0.1:8000 (Press CTRL+C to quit)\n"
     ]
    },
    {
     "name": "stdout",
     "output_type": "stream",
     "text": [
      "INFO:     127.0.0.1:53090 - \"GET /docs HTTP/1.1\" 200 OK\n",
      "INFO:     127.0.0.1:53090 - \"GET /openapi.json HTTP/1.1\" 200 OK\n",
      "INFO:     127.0.0.1:53100 - \"POST /token HTTP/1.1\" 404 Not Found\n",
      "INFO:     127.0.0.1:41424 - \"GET /items/ HTTP/1.1\" 401 Unauthorized\n"
     ]
    },
    {
     "name": "stderr",
     "output_type": "stream",
     "text": [
      "INFO:     Shutting down\n",
      "INFO:     Waiting for application shutdown.\n",
      "INFO:     Application shutdown complete.\n",
      "INFO:     Finished server process [15296]\n"
     ]
    }
   ],
   "source": [
    "#Here we see how to add authorization to api requests\n",
    "\n",
    "\n",
    "import nest_asyncio\n",
    "import uvicorn\n",
    "\n",
    "nest_asyncio.apply()\n",
    "\n",
    "\n",
    "from typing import Annotated\n",
    "from fastapi import Depends, FastAPI\n",
    "from fastapi.security import OAuth2PasswordBearer\n",
    "\n",
    "app = FastAPI()\n",
    "\n",
    "\n",
    "oauth2_scheme = OAuth2PasswordBearer(tokenUrl = \"token\")\n",
    "\n",
    "\n",
    "@app.get(\"/items/\")\n",
    "async def read_items(token: Annotated[str, Depends(oauth2_scheme)]):\n",
    "    return {\"token\": token}\n",
    "\n",
    "\n",
    "uvicorn.run(app, port=8000)"
   ]
  },
  {
   "attachments": {},
   "cell_type": "markdown",
   "metadata": {},
   "source": [
    "The password flow"
   ]
  },
  {
   "cell_type": "code",
   "execution_count": null,
   "metadata": {},
   "outputs": [],
   "source": [
    "#The password flow is one of the ways/flows defined in OAuth2, to handle security and authentication.\n",
    "\n",
    "#OAuth2 was designed so that the backedn or API could be independent of the server that authenticates the user\n",
    "\n",
    "\n",
    "#But in this case, the same  FastAPI application will handle the API and the authentication.\n",
    "\n",
    "#So lets review it from that simplified point of view:\n",
    "\n",
    "\n",
    "    # The user types the username and password in the frontend and hits Enter\n",
    "    \n",
    "    # The frontend sends that username and password to a specific URL in our API\n",
    "\n",
    "    # The API  checks that username and password, and responds with a token(we haven't implemented any of this yet)\n",
    "\n",
    "\n",
    "            #A token is just a string with some content that we can use later to verify this user\n",
    "            #Normally a token is set to expire after some time\n",
    "                #So the user will have to log in again at some point later.\n",
    "                #And if teh token is stolen the risk is less. It is not like a permanent key that will work forever(in most of the cases).\n",
    "\n",
    "    #The frontend stores that token temporarily somewhere\n",
    "\n",
    "    #The user clicks in the frontend to go to another section of the frontend web app.\n",
    "\n",
    "    #The frontend needs to fetch some more data from the API.\n",
    "        #But it needs authentication for that specific endpoint.\n",
    "        #So to authenticate with our API, it sends a header Authorization with a value of Bearer plus the token\n",
    "        #If the token contains foobar, the content of the Authorization header would be:\n",
    "            #Bearer foobar\n",
    "\n",
    "\n",
    "            "
   ]
  },
  {
   "attachments": {},
   "cell_type": "markdown",
   "metadata": {},
   "source": [
    "FastAPI's OAuth2PasswordBearer"
   ]
  },
  {
   "cell_type": "code",
   "execution_count": 4,
   "metadata": {},
   "outputs": [
    {
     "name": "stderr",
     "output_type": "stream",
     "text": [
      "INFO:     Started server process [15296]\n",
      "INFO:     Waiting for application startup.\n",
      "INFO:     Application startup complete.\n",
      "INFO:     Uvicorn running on http://127.0.0.1:8000 (Press CTRL+C to quit)\n"
     ]
    },
    {
     "name": "stdout",
     "output_type": "stream",
     "text": [
      "INFO:     127.0.0.1:37076 - \"GET /docs HTTP/1.1\" 200 OK\n",
      "INFO:     127.0.0.1:37076 - \"GET /openapi.json HTTP/1.1\" 200 OK\n",
      "INFO:     127.0.0.1:43612 - \"GET /items/ HTTP/1.1\" 401 Unauthorized\n"
     ]
    },
    {
     "name": "stderr",
     "output_type": "stream",
     "text": [
      "INFO:     Shutting down\n",
      "INFO:     Waiting for application shutdown.\n",
      "INFO:     Application shutdown complete.\n",
      "INFO:     Finished server process [15296]\n"
     ]
    }
   ],
   "source": [
    "# we can use teh oauth2_scheme in a dependency with depends\n",
    "\n",
    "\n",
    "from typing import Annotated\n",
    "\n",
    "from fastapi import Depends, FastAPI\n",
    "from fastapi.security import OAuth2PasswordBearer\n",
    "\n",
    "\n",
    "app = FastAPI()\n",
    "\n",
    "oauth2_scheme = OAuth2PasswordBearer(tokenUrl = \"token\")\n",
    "\n",
    "\n",
    "@app.get('/items/')\n",
    "async def read_items(token: Annotated[str, Depends(oauth2_scheme)]):\n",
    "    return {'token': token}\n",
    "\n",
    "\n",
    "uvicorn.run(app, port=8000)\n"
   ]
  },
  {
   "attachments": {},
   "cell_type": "markdown",
   "metadata": {},
   "source": [
    "## Get Current User"
   ]
  },
  {
   "cell_type": "code",
   "execution_count": null,
   "metadata": {},
   "outputs": [],
   "source": [
    "from typing import Annotated\n",
    "\n",
    "from fastapi import Depends, FastAPI\n",
    "from fastapi.security import OAuth2PasswordBearer\n",
    "\n",
    "\n",
    "app = FastAPI()\n",
    "\n",
    "\n",
    "oauth2_scheme = OAuth2PasswordBearer(tokenUrl = \"token\")\n",
    "\n",
    "@app.get('/items/')\n",
    "async def read_items(token: Annotated[str, Depends(oauth2_scheme)]):\n",
    "    return {\"token\": token}\n",
    "\n",
    "\n",
    "#But that is still not that useful\n",
    "\n"
   ]
  },
  {
   "cell_type": "code",
   "execution_count": 5,
   "metadata": {},
   "outputs": [
    {
     "name": "stderr",
     "output_type": "stream",
     "text": [
      "INFO:     Started server process [15296]\n",
      "INFO:     Waiting for application startup.\n",
      "INFO:     Application startup complete.\n",
      "INFO:     Uvicorn running on http://127.0.0.1:8000 (Press CTRL+C to quit)\n"
     ]
    },
    {
     "name": "stdout",
     "output_type": "stream",
     "text": [
      "INFO:     127.0.0.1:59312 - \"GET /docs HTTP/1.1\" 200 OK\n",
      "INFO:     127.0.0.1:59312 - \"GET /openapi.json HTTP/1.1\" 200 OK\n"
     ]
    },
    {
     "name": "stderr",
     "output_type": "stream",
     "text": [
      "INFO:     Shutting down\n",
      "INFO:     Waiting for application shutdown.\n",
      "INFO:     Application shutdown complete.\n",
      "INFO:     Finished server process [15296]\n"
     ]
    }
   ],
   "source": [
    "#Hence Create a user model\n",
    "\n",
    "from typing import Annotated\n",
    "\n",
    "from fastapi import Depends, FastAPI\n",
    "from fastapi.security import OAuth2PasswordBearer\n",
    "\n",
    "from pydantic import BaseModel\n",
    "\n",
    "\n",
    "app = FastAPI()\n",
    "\n",
    "\n",
    "oauth2_scheme = OAuth2PasswordBearer(tokenUrl = 'token')\n",
    "\n",
    "\n",
    "class User(BaseModel):\n",
    "    username: str\n",
    "    email: str | None = None\n",
    "    full_name: str | None = None\n",
    "    disabled: bool | None = None\n",
    "\n",
    "\n",
    "def fake_decode_token(token):\n",
    "    return User(username = token + \"fakedecoded\", email = 'john@example.com', full_name = 'John Lamare')\n",
    "\n",
    "\n",
    "async def get_current_user(token: Annotated[str, Depends(oauth2_scheme)]):\n",
    "    user = fake_decode_token(token)\n",
    "    return user\n",
    "\n",
    "@app.get('/users/me')\n",
    "async def read_users_me(current_user: Annotated[User, Depends(get_current_user)]):\n",
    "    return current_user\n",
    "\n",
    "\n",
    "uvicorn.run(app, port=8000)"
   ]
  },
  {
   "attachments": {},
   "cell_type": "markdown",
   "metadata": {},
   "source": [
    "## Simple OAuth2 with Password and Bearer"
   ]
  },
  {
   "cell_type": "code",
   "execution_count": 9,
   "metadata": {},
   "outputs": [
    {
     "name": "stderr",
     "output_type": "stream",
     "text": [
      "INFO:     Started server process [15296]\n",
      "INFO:     Waiting for application startup.\n",
      "INFO:     Application startup complete.\n",
      "INFO:     Uvicorn running on http://127.0.0.1:8000 (Press CTRL+C to quit)\n"
     ]
    },
    {
     "name": "stdout",
     "output_type": "stream",
     "text": [
      "INFO:     127.0.0.1:56112 - \"GET / HTTP/1.1\" 404 Not Found\n",
      "INFO:     127.0.0.1:51022 - \"GET /docs HTTP/1.1\" 200 OK\n",
      "INFO:     127.0.0.1:51022 - \"GET /openapi.json HTTP/1.1\" 200 OK\n",
      "INFO:     127.0.0.1:46888 - \"POST /token HTTP/1.1\" 200 OK\n",
      "INFO:     127.0.0.1:39480 - \"POST /token HTTP/1.1\" 200 OK\n",
      "INFO:     127.0.0.1:59508 - \"GET /users/me HTTP/1.1\" 200 OK\n"
     ]
    }
   ],
   "source": [
    "#scope\n",
    "#--- The spec also says that the client can send another form field \"scope\" separated by spaces\n",
    "\n",
    "\n",
    "#Each scope is just a string.\n",
    "\n",
    "#Code to get the username and password\n",
    "#--->\n",
    "\n",
    "\n",
    "from typing import Annotated\n",
    "\n",
    "from fastapi import Depends, FastAPI,  HTTPException, status\n",
    "from fastapi.security import OAuth2PasswordBearer, OAuth2PasswordRequestForm\n",
    "from pydantic import BaseModel\n",
    "\n",
    "\n",
    "fake_users_db = {\n",
    "    'johndoe':{\n",
    "        'username': 'johndoe',\n",
    "        'fullname': 'John doe',\n",
    "        'email': 'johndoe@example.com',\n",
    "        'hashed_password': 'fakehashedsecret',\n",
    "        'disabled': False,\n",
    "    },\n",
    "\n",
    "    'alice':{\n",
    "        'username': 'alice',\n",
    "        'full_name': 'Alice Wonderson',\n",
    "        'email': 'alice@example.com',\n",
    "        'hashed_password': 'fakehashedsecret2',\n",
    "        'disabled': True,\n",
    "    },\n",
    "}\n",
    "\n",
    "\n",
    "app = FastAPI()\n",
    "\n",
    "\n",
    "def fake_hash_password(password: str):\n",
    "    return 'fakehashed' + password\n",
    "\n",
    "\n",
    "\n",
    "oauth2_scheme = OAuth2PasswordBearer(tokenUrl = 'token')\n",
    "\n",
    "\n",
    "class User(BaseModel):\n",
    "    username: str\n",
    "    email: str | None = None\n",
    "    full_name: str | None = None\n",
    "    disabled: bool | None = None\n",
    "\n",
    "\n",
    "class UserInDB(User):\n",
    "    hashed_password: str\n",
    "\n",
    "\n",
    "def get_user(db, username: str):\n",
    "    if username in db:\n",
    "        user_dict = db[username]\n",
    "        return UserInDB(**user_dict)\n",
    "\n",
    "\n",
    "def fake_decode_token(token):\n",
    "    #This doesnt provide any security at all\n",
    "    #Check the next version\n",
    "    user = get_user(fake_users_db, token)\n",
    "    return user\n",
    "\n",
    "\n",
    "async def get_current_user(token: Annotated[str, Depends(oauth2_scheme)]):\n",
    "    user = fake_decode_token(token)\n",
    "    if not user:\n",
    "        raise HTTPException(\n",
    "            status_code = status.HTTP_401_UNAUTHORIZED,\n",
    "            detail = 'Invalid authentication credentials',\n",
    "            headers = {'WWW-Authenticate': 'Bearer'},\n",
    "        )\n",
    "    return user\n",
    "\n",
    "\n",
    "async def get_current_active_user(\n",
    "    current_user: Annotated[User, Depends(get_current_user)]\n",
    "):\n",
    "    if current_user.disabled:\n",
    "        raise HTTPException(status_code = 400, detail='Inactive user')\n",
    "    return current_user\n",
    "\n",
    "@app.post('/token')\n",
    "async def login(form_data: Annotated[OAuth2PasswordRequestForm, Depends()]):\n",
    "    user_dict = fake_users_db.get(form_data.username)\n",
    "    if not user_dict:\n",
    "        raise HTTPException(status_code = 400, detail='Incorrect username or password')\n",
    "    user = UserInDB(**user_dict)\n",
    "    hashed_password = fake_hash_password(form_data.password)\n",
    "    if not hashed_password == user.hashed_password:\n",
    "        raise HTTPException(status_code = 400, detail=\"Incorrect username or password\")\n",
    "\n",
    "    return {\"access_token\": user.username, \"token_type\": \"bearer\"}\n",
    "\n",
    "@app.get('/users/me')\n",
    "async def read_users_me(\n",
    "    current_user: Annotated[User, Depends(get_current_active_user)]\n",
    "):\n",
    "    return current_user\n",
    "\n",
    "\n",
    "uvicorn.run(app, port=8000)"
   ]
  },
  {
   "cell_type": "code",
   "execution_count": 8,
   "metadata": {},
   "outputs": [],
   "source": [
    "#Return the token\n",
    "\n",
    "#The response of teh token endpoint must be a json object.\n",
    "\n",
    "#It should have a token_type In our case as we are using bearer tokens, the token type should be bearer\n",
    "\n",
    "#And it should have an access_token with a string containing our access token\n",
    "\n",
    "#For this simple example we are going to just be completely insecure and return the same username as the token\n",
    "\n",
    "\n",
    "#------------------\n",
    "# Byt eh spce you should return a JSON with an access_token and a token_type the same as in this example. This is something that you have to do yourself in your code, nd make sure you use those JSON keys.\n",
    "\n",
    "#its almost the only thing that you have to remember to do correctly yourself, to be compliant with the specifications.\n",
    "\n",
    "#For the rest, FastAPI handles it for you."
   ]
  },
  {
   "attachments": {},
   "cell_type": "markdown",
   "metadata": {},
   "source": [
    "## Update the dependencies"
   ]
  },
  {
   "cell_type": "code",
   "execution_count": null,
   "metadata": {},
   "outputs": [],
   "source": [
    "#Now we are going to update our dependencies\n",
    "\n",
    "#We want to get the current_user only if this user is active\n",
    "\n",
    "#So, we create an additonal dependency get_current_active_user that in turn uses get_current_user as a dependency\n",
    "\n",
    "#Both of these dependencies will just return an HTTP error if the user doesnt exist, or if is inactive.\n",
    "\n",
    "#So, in our endpoint, we will only get a user if the user exists, was correctly authenticated, and is active:\n",
    "\n"
   ]
  }
 ],
 "metadata": {
  "kernelspec": {
   "display_name": "DeepLearning",
   "language": "python",
   "name": "python3"
  },
  "language_info": {
   "codemirror_mode": {
    "name": "ipython",
    "version": 3
   },
   "file_extension": ".py",
   "mimetype": "text/x-python",
   "name": "python",
   "nbconvert_exporter": "python",
   "pygments_lexer": "ipython3",
   "version": "3.10.9"
  },
  "orig_nbformat": 4
 },
 "nbformat": 4,
 "nbformat_minor": 2
}
