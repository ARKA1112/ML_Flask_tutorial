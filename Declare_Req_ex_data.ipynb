{
 "cells": [
  {
   "cell_type": "code",
   "execution_count": 2,
   "metadata": {},
   "outputs": [],
   "source": [
    "import nest_asyncio\n",
    "import uvicorn\n",
    "nest_asyncio.apply()\n"
   ]
  },
  {
   "attachments": {},
   "cell_type": "markdown",
   "metadata": {},
   "source": [
    "## Setting an example request"
   ]
  },
  {
   "cell_type": "code",
   "execution_count": null,
   "metadata": {},
   "outputs": [],
   "source": [
    "#pydantic schema_extra\n",
    "\n",
    "\n",
    "from fastapi import FastAPI\n",
    "from pydantic import BaseModel\n",
    "\n",
    "\n",
    "app = FastAPI()\n",
    "\n",
    "class Item(BaseModel):\n",
    "    name:str\n",
    "    description: str\n",
    "    price: float\n",
    "    tax: float\n",
    "\n",
    "\n",
    "    class Config:\n",
    "        schema_extra = {\n",
    "            \"example\": {\n",
    "            \"name\": \"Foo\",\n",
    "            \"description\": 'A very nice item',\n",
    "            \"price\": 35.4,\n",
    "            \"tax\": 3.2,\n",
    "            }\n",
    "        }\n",
    "\n",
    "\n",
    "@app.put('/items/{item_id}')\n",
    "async def update_item(item_id: int, item: Item):\n",
    "    results = {'item_id': item_id, \"item\": item}\n",
    "    return results\n",
    "\n",
    "\n",
    "uvicorn.run(app, port=8000)"
   ]
  },
  {
   "cell_type": "code",
   "execution_count": 7,
   "metadata": {},
   "outputs": [
    {
     "name": "stderr",
     "output_type": "stream",
     "text": [
      "INFO:     Started server process [7795]\n",
      "INFO:     Waiting for application startup.\n",
      "INFO:     Application startup complete.\n",
      "INFO:     Uvicorn running on http://127.0.0.1:8000 (Press CTRL+C to quit)\n"
     ]
    },
    {
     "name": "stdout",
     "output_type": "stream",
     "text": [
      "INFO:     127.0.0.1:45990 - \"GET / HTTP/1.1\" 404 Not Found\n",
      "INFO:     127.0.0.1:45990 - \"GET /docs HTTP/1.1\" 200 OK\n",
      "INFO:     127.0.0.1:45990 - \"GET /openapi.json HTTP/1.1\" 200 OK\n"
     ]
    },
    {
     "name": "stderr",
     "output_type": "stream",
     "text": [
      "INFO:     Shutting down\n",
      "INFO:     Waiting for application shutdown.\n",
      "INFO:     Application shutdown complete.\n",
      "INFO:     Finished server process [7795]\n"
     ]
    }
   ],
   "source": [
    "#Field additonal arguments\n",
    "\n",
    "from fastapi import FastAPI\n",
    "from pydantic import BaseModel, Field\n",
    "\n",
    "\n",
    "app = FastAPI()\n",
    "\n",
    "\n",
    "class Item(BaseModel):\n",
    "    name: str = Field(example = 'foo')\n",
    "    description: str | None = Field(default=None, example = 'a very nice item')\n",
    "    price: float = Field(example = 35.4)\n",
    "    tax: float | None = Field(default = None, example=3.2)\n",
    "\n",
    "\n",
    "\n",
    "@app.put('/items/{item_id}')\n",
    "async def update_item(item_id: int, item: Item):\n",
    "    results = {'item_id':item_id, \"item\": item}\n",
    "    return results\n",
    "\n",
    "\n",
    "uvicorn.run(app, port=8000)"
   ]
  },
  {
   "attachments": {},
   "cell_type": "markdown",
   "metadata": {},
   "source": [
    "Extra Data Types"
   ]
  },
  {
   "cell_type": "code",
   "execution_count": 8,
   "metadata": {},
   "outputs": [
    {
     "name": "stderr",
     "output_type": "stream",
     "text": [
      "INFO:     Started server process [7795]\n",
      "INFO:     Waiting for application startup.\n",
      "INFO:     Application startup complete.\n",
      "INFO:     Uvicorn running on http://127.0.0.1:8000 (Press CTRL+C to quit)\n"
     ]
    },
    {
     "name": "stdout",
     "output_type": "stream",
     "text": [
      "INFO:     127.0.0.1:47494 - \"GET /docs HTTP/1.1\" 200 OK\n",
      "INFO:     127.0.0.1:47494 - \"GET /openapi.json HTTP/1.1\" 200 OK\n"
     ]
    },
    {
     "name": "stderr",
     "output_type": "stream",
     "text": [
      "INFO:     Shutting down\n",
      "INFO:     Waiting for application shutdown.\n",
      "INFO:     Application shutdown complete.\n",
      "INFO:     Finished server process [7795]\n"
     ]
    }
   ],
   "source": [
    "#few extra data types other than the mentioned above\n",
    "\n",
    "from datetime import datetime, time, timedelta\n",
    "from typing import Annotated\n",
    "from uuid import UUID\n",
    "\n",
    "from fastapi import Body, FastAPI\n",
    "\n",
    "app = FastAPI()\n",
    "\n",
    "\n",
    "@app.put(\"/items/{item_id}\")\n",
    "async def read_items(\n",
    "    item_id: UUID,\n",
    "    start_datetime: Annotated[datetime | None, Body()] = None,\n",
    "    end_datetime: Annotated[datetime | None, Body()] = None, \n",
    "    repeat_at: Annotated[time | None, Body()] = None,\n",
    "    process_after: Annotated[timedelta | None, Body()] = None,\n",
    "):\n",
    "    start_process = start_datetime + process_after\n",
    "    duration = end_datetime - start_process\n",
    "    return {\n",
    "        'item_id': item_id,\n",
    "        'start_datetime': start_datetime,\n",
    "        'end_datetime': end_datetime,\n",
    "        'repeat_at': repeat_at,\n",
    "        'process_after': process_after,\n",
    "        'start_process': start_process,\n",
    "        'duration': duration,\n",
    "    }\n",
    "\n",
    "\n",
    "\n",
    "uvicorn.run(app, port=8000)"
   ]
  },
  {
   "cell_type": "code",
   "execution_count": null,
   "metadata": {},
   "outputs": [],
   "source": []
  }
 ],
 "metadata": {
  "kernelspec": {
   "display_name": "DeepLearning",
   "language": "python",
   "name": "python3"
  },
  "language_info": {
   "codemirror_mode": {
    "name": "ipython",
    "version": 3
   },
   "file_extension": ".py",
   "mimetype": "text/x-python",
   "name": "python",
   "nbconvert_exporter": "python",
   "pygments_lexer": "ipython3",
   "version": "3.10.9"
  },
  "orig_nbformat": 4
 },
 "nbformat": 4,
 "nbformat_minor": 2
}
