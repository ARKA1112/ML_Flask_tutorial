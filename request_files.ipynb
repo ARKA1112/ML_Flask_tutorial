{
 "cells": [
  {
   "cell_type": "code",
   "execution_count": 1,
   "metadata": {},
   "outputs": [
    {
     "name": "stderr",
     "output_type": "stream",
     "text": [
      "INFO:     Started server process [25865]\n",
      "INFO:     Waiting for application startup.\n",
      "INFO:     Application startup complete.\n",
      "INFO:     Uvicorn running on http://127.0.0.1:8000 (Press CTRL+C to quit)\n"
     ]
    },
    {
     "name": "stdout",
     "output_type": "stream",
     "text": [
      "INFO:     127.0.0.1:50874 - \"GET /docs HTTP/1.1\" 200 OK\n",
      "INFO:     127.0.0.1:50874 - \"GET /openapi.json HTTP/1.1\" 200 OK\n",
      "INFO:     127.0.0.1:52982 - \"POST /uploadfile/ HTTP/1.1\" 200 OK\n",
      "INFO:     127.0.0.1:46908 - \"POST /files/ HTTP/1.1\" 200 OK\n"
     ]
    },
    {
     "name": "stderr",
     "output_type": "stream",
     "text": [
      "INFO:     Shutting down\n",
      "INFO:     Waiting for application shutdown.\n",
      "INFO:     Application shutdown complete.\n",
      "INFO:     Finished server process [25865]\n"
     ]
    }
   ],
   "source": [
    "import nest_asyncio\n",
    "import uvicorn\n",
    "from typing import Annotated\n",
    "from fastapi import FastAPI, File, UploadFile\n",
    "\n",
    "\n",
    "nest_asyncio.apply()\n",
    "\n",
    "\n",
    "app = FastAPI()\n",
    "\n",
    "@app.post('/files/')\n",
    "async def create_file(file: Annotated[bytes, File()]):\n",
    "    return {'file_size': len(file)}\n",
    "\n",
    "@app.post('/uploadfile/')\n",
    "async def create_upload_file(file: UploadFile):\n",
    "    return {'filename': file.filename}\n",
    "\n",
    "\n",
    "uvicorn.run(app, port=8000)\n"
   ]
  },
  {
   "attachments": {},
   "cell_type": "markdown",
   "metadata": {},
   "source": [
    "Multiple File Uploads"
   ]
  },
  {
   "cell_type": "code",
   "execution_count": 5,
   "metadata": {},
   "outputs": [
    {
     "name": "stderr",
     "output_type": "stream",
     "text": [
      "INFO:     Started server process [6220]\n",
      "INFO:     Waiting for application startup.\n",
      "INFO:     Application startup complete.\n",
      "INFO:     Uvicorn running on http://127.0.0.1:8000 (Press CTRL+C to quit)\n"
     ]
    },
    {
     "name": "stdout",
     "output_type": "stream",
     "text": [
      "INFO:     127.0.0.1:54504 - \"GET /docs HTTP/1.1\" 200 OK\n",
      "INFO:     127.0.0.1:54504 - \"GET /openapi.json HTTP/1.1\" 200 OK\n",
      "INFO:     127.0.0.1:37928 - \"POST /files/ HTTP/1.1\" 200 OK\n",
      "INFO:     127.0.0.1:36322 - \"GET / HTTP/1.1\" 200 OK\n",
      "INFO:     127.0.0.1:51272 - \"GET / HTTP/1.1\" 200 OK\n",
      "INFO:     127.0.0.1:50150 - \"POST /files/ HTTP/1.1\" 200 OK\n",
      "INFO:     127.0.0.1:46230 - \"POST /uploadfiles/ HTTP/1.1\" 405 Method Not Allowed\n",
      "INFO:     127.0.0.1:46230 - \"GET /docs HTTP/1.1\" 200 OK\n",
      "INFO:     127.0.0.1:46230 - \"GET /openapi.json HTTP/1.1\" 200 OK\n"
     ]
    },
    {
     "name": "stderr",
     "output_type": "stream",
     "text": [
      "INFO:     Shutting down\n",
      "INFO:     Waiting for application shutdown.\n",
      "INFO:     Application shutdown complete.\n",
      "INFO:     Finished server process [6220]\n"
     ]
    }
   ],
   "source": [
    "import nest_asyncio\n",
    "import uvicorn\n",
    "\n",
    "nest_asyncio.apply()\n",
    "\n",
    "\n",
    "\n",
    "from typing import Annotated\n",
    "\n",
    "from fastapi import FastAPI, File, UploadFile\n",
    "from fastapi.responses import HTMLResponse\n",
    "\n",
    "\n",
    "app = FastAPI()\n",
    "\n",
    "\n",
    "@app.post(\"/files/\")\n",
    "async def create_files(files: Annotated[list[bytes], File()]):\n",
    "    return {'file_sizes': [len(file) for file in files]}\n",
    "\n",
    "@app.get('/uploadfiles/')\n",
    "async def upload_files(files: list[UploadFile]):\n",
    "    return {\"filenames\": [file.filename for file in files]}\n",
    "\n",
    "@app.get('/')\n",
    "async def main():\n",
    "    content=\"\"\"<body>\n",
    "    <form action=\"/files/\" enctype=\"multipart/form-data\" method=\"post\">\n",
    "    <input name=\"files\" type=\"file\" multiple>\n",
    "    <input type=\"submit\">\n",
    "    </form>\n",
    "    <form action=\"/uploadfiles/\" enctype=\"multipart/form-data\" method=\"post\">\n",
    "    <input name=\"files\" type=\"file\" multiple>\n",
    "    <input type=\"submit\">\n",
    "    </form>\n",
    "    </body>\"\"\"\n",
    "    return HTMLResponse(content=content)\n",
    "\n",
    "\n",
    "uvicorn.run(app, port=8000)\n"
   ]
  },
  {
   "attachments": {},
   "cell_type": "markdown",
   "metadata": {},
   "source": [
    "Multiple File Uploads with Additonal Metadata"
   ]
  },
  {
   "cell_type": "code",
   "execution_count": 6,
   "metadata": {},
   "outputs": [
    {
     "name": "stderr",
     "output_type": "stream",
     "text": [
      "INFO:     Started server process [6220]\n",
      "INFO:     Waiting for application startup.\n",
      "INFO:     Application startup complete.\n",
      "INFO:     Uvicorn running on http://127.0.0.1:8000 (Press CTRL+C to quit)\n"
     ]
    },
    {
     "name": "stdout",
     "output_type": "stream",
     "text": [
      "INFO:     127.0.0.1:36986 - \"GET / HTTP/1.1\" 200 OK\n",
      "INFO:     127.0.0.1:39102 - \"POST /files/ HTTP/1.1\" 307 Temporary Redirect\n",
      "INFO:     127.0.0.1:39102 - \"POST /files HTTP/1.1\" 200 OK\n",
      "INFO:     127.0.0.1:38598 - \"GET /docs HTTP/1.1\" 200 OK\n",
      "INFO:     127.0.0.1:38598 - \"GET /openapi.json HTTP/1.1\" 200 OK\n"
     ]
    },
    {
     "name": "stderr",
     "output_type": "stream",
     "text": [
      "INFO:     Shutting down\n",
      "INFO:     Waiting for application shutdown.\n",
      "INFO:     Application shutdown complete.\n",
      "INFO:     Finished server process [6220]\n"
     ]
    }
   ],
   "source": [
    "from typing import Annotated\n",
    "\n",
    "\n",
    "from fastapi import FastAPI, File, UploadFile\n",
    "from fastapi.responses import HTMLResponse\n",
    "\n",
    "\n",
    "app = FastAPI()\n",
    "\n",
    "\n",
    "@app.post('/files')\n",
    "async def create_files(files: Annotated[list[bytes], File(description='Mutltiple files as bytes')]):\n",
    "        return {\"file_sizes\": [len(file) for file in files]}\n",
    "\n",
    "\n",
    "@app.post('/uploadfiles')\n",
    "async def create_upload_files(files: Annotated[list[UploadFile], File(description=\"Multiple files as UploadFile\")],):\n",
    "        return {\"filenames\": [file.filename for file in files]}\n",
    "\n",
    "\n",
    "@app.get('/')\n",
    "async def main():\n",
    "        content = \"\"\"<body>\n",
    "        <form action=\"/files/\" enctype=\"multipart/form-data\" method=\"post\">\n",
    "        <input name=\"files\" type=\"file\" multiple>\n",
    "        <input type=\"submit\">\n",
    "        </form>\n",
    "        <form action=\"/uploadfiles/\" enctype=\"multipart/form-data\" method=\"post\">\n",
    "        <input name=\"files\" type=\"file\" multiple>\n",
    "        <input type=\"submit\">\n",
    "        </form>\n",
    "        </body>\"\"\"\n",
    "        return HTMLResponse(content=content)\n",
    "\n",
    "\n",
    "uvicorn.run(app, port=8000)"
   ]
  },
  {
   "cell_type": "code",
   "execution_count": null,
   "metadata": {},
   "outputs": [],
   "source": []
  }
 ],
 "metadata": {
  "kernelspec": {
   "display_name": "DeepLearning",
   "language": "python",
   "name": "python3"
  },
  "language_info": {
   "codemirror_mode": {
    "name": "ipython",
    "version": 3
   },
   "file_extension": ".py",
   "mimetype": "text/x-python",
   "name": "python",
   "nbconvert_exporter": "python",
   "pygments_lexer": "ipython3",
   "version": "3.10.9"
  },
  "orig_nbformat": 4
 },
 "nbformat": 4,
 "nbformat_minor": 2
}
