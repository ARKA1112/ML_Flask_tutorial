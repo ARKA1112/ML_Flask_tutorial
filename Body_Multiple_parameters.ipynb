{
 "cells": [
  {
   "cell_type": "code",
   "execution_count": 1,
   "metadata": {},
   "outputs": [],
   "source": [
    "import nest_asyncio\n",
    "import uvicorn\n",
    "\n",
    "nest_asyncio.apply()"
   ]
  },
  {
   "cell_type": "code",
   "execution_count": 6,
   "metadata": {},
   "outputs": [
    {
     "name": "stderr",
     "output_type": "stream",
     "text": [
      "INFO:     Started server process [17831]\n",
      "INFO:     Waiting for application startup.\n",
      "INFO:     Application startup complete.\n",
      "INFO:     Uvicorn running on http://127.0.0.1:8000 (Press CTRL+C to quit)\n"
     ]
    },
    {
     "name": "stdout",
     "output_type": "stream",
     "text": [
      "INFO:     127.0.0.1:59932 - \"GET / HTTP/1.1\" 404 Not Found\n",
      "INFO:     127.0.0.1:59932 - \"GET /docs HTTP/1.1\" 200 OK\n",
      "INFO:     127.0.0.1:59932 - \"GET /openapi.json HTTP/1.1\" 200 OK\n",
      "INFO:     127.0.0.1:34346 - \"PUT /items/2?item_query=david HTTP/1.1\" 200 OK\n"
     ]
    },
    {
     "name": "stderr",
     "output_type": "stream",
     "text": [
      "INFO:     Shutting down\n",
      "INFO:     Waiting for application shutdown.\n",
      "INFO:     Application shutdown complete.\n",
      "INFO:     Finished server process [17831]\n"
     ]
    }
   ],
   "source": [
    "#Body multiple parameters\n",
    "#Mix path query and body parameters\n",
    "\n",
    "\n",
    "from typing import Annotated\n",
    "\n",
    "from fastapi import FastAPI, Query, Path\n",
    "from pydantic import BaseModel\n",
    "\n",
    "app = FastAPI()\n",
    "\n",
    "\n",
    "\n",
    "class Item(BaseModel):\n",
    "    name: str\n",
    "    description: str | None = None\n",
    "    price: float\n",
    "    tax: float | None = None\n",
    "\n",
    "\n",
    "@app.put('/items/{item_id}')\n",
    "async def update_item(item_id: Annotated[int, Path(title=\"The ID of the item to get\", ge=0, le=1000)],\n",
    "                      q: Annotated[ str | None, Query(alias='item_query')] = None,\n",
    "                      item: Item | None = None,\n",
    "                      ):\n",
    "    results = {\"item_id\":item_id}\n",
    "    if item:\n",
    "        results.update({'item': item})\n",
    "    if q:\n",
    "        results.update({'item_query':q})\n",
    "    return results\n",
    "\n",
    "uvicorn.run(app, port=8000)"
   ]
  },
  {
   "cell_type": "code",
   "execution_count": 4,
   "metadata": {},
   "outputs": [
    {
     "name": "stderr",
     "output_type": "stream",
     "text": [
      "INFO:     Started server process [18964]\n",
      "INFO:     Waiting for application startup.\n",
      "INFO:     Application startup complete.\n",
      "INFO:     Uvicorn running on http://127.0.0.1:8000 (Press CTRL+C to quit)\n"
     ]
    },
    {
     "name": "stdout",
     "output_type": "stream",
     "text": [
      "INFO:     127.0.0.1:39896 - \"GET /docs HTTP/1.1\" 200 OK\n",
      "INFO:     127.0.0.1:39896 - \"GET /openapi.json HTTP/1.1\" 200 OK\n",
      "INFO:     127.0.0.1:44574 - \"PUT /items/12 HTTP/1.1\" 200 OK\n"
     ]
    },
    {
     "name": "stderr",
     "output_type": "stream",
     "text": [
      "INFO:     Shutting down\n",
      "INFO:     Waiting for application shutdown.\n",
      "INFO:     Application shutdown complete.\n",
      "INFO:     Finished server process [18964]\n"
     ]
    }
   ],
   "source": [
    "#Adding multiple body parameters\n",
    "\n",
    "\n",
    "from fastapi import FastAPI\n",
    "from pydantic import BaseModel\n",
    "\n",
    "app = FastAPI()\n",
    "\n",
    "\n",
    "class Item(BaseModel):\n",
    "    name : str\n",
    "    description: str | None = None\n",
    "    price: float\n",
    "    tax: float | None = None\n",
    "\n",
    "class User(BaseModel):\n",
    "    username: str\n",
    "    full_name: str | None = None\n",
    "\n",
    "\n",
    "@app.put('/items/{item_id}')\n",
    "async def update_item(item_id: int, item : Item, user : User):\n",
    "\n",
    "    results = {'item_id': item_id, \"item\": item, 'user': user}\n",
    "    return results\n",
    "\n",
    "\n",
    "\n",
    "uvicorn.run(app=app,port=8000)"
   ]
  },
  {
   "cell_type": "code",
   "execution_count": 5,
   "metadata": {},
   "outputs": [
    {
     "name": "stderr",
     "output_type": "stream",
     "text": [
      "INFO:     Started server process [18964]\n",
      "INFO:     Waiting for application startup.\n",
      "INFO:     Application startup complete.\n",
      "INFO:     Uvicorn running on http://127.0.0.1:8000 (Press CTRL+C to quit)\n"
     ]
    },
    {
     "name": "stdout",
     "output_type": "stream",
     "text": [
      "INFO:     127.0.0.1:53636 - \"GET /docs HTTP/1.1\" 200 OK\n",
      "INFO:     127.0.0.1:53636 - \"GET /openapi.json HTTP/1.1\" 200 OK\n",
      "INFO:     127.0.0.1:37934 - \"PUT /items/12 HTTP/1.1\" 200 OK\n"
     ]
    },
    {
     "name": "stderr",
     "output_type": "stream",
     "text": [
      "INFO:     Shutting down\n",
      "INFO:     Waiting for application shutdown.\n",
      "INFO:     Application shutdown complete.\n",
      "INFO:     Finished server process [18964]\n"
     ]
    }
   ],
   "source": [
    "#Singular values in body\n",
    "\n",
    "\n",
    "#The same way theres is a query and path to define extra data for query and path parameters, fastapi provides and equivalent body\n",
    "\n",
    "\n",
    "#like the item and the user in the previous model we can also add the key named importance in the same body\n",
    "\n",
    "from typing import Annotated\n",
    "\n",
    "from fastapi import Body, FastAPI\n",
    "from pydantic import BaseModel\n",
    "\n",
    "\n",
    "app = FastAPI()\n",
    "\n",
    "\n",
    "\n",
    "class Item(BaseModel):\n",
    "    name : str\n",
    "    description : str|None = None\n",
    "    price: float\n",
    "    tax: float|None = None\n",
    "\n",
    "\n",
    "class User(BaseModel):\n",
    "    username: str\n",
    "    fullname: str | None = None\n",
    "\n",
    "\n",
    "\n",
    "@app.put('/items/{item_id}')\n",
    "async def update_item(item_id:int, item: Item, user:User, importance:Annotated[int, Body()]):\n",
    "    results = {'item_id':item_id, 'item':item, 'user':user, 'importance': importance}\n",
    "    return results\n",
    "\n",
    "\n",
    "\n",
    "uvicorn.run(app, port=8000)\n"
   ]
  },
  {
   "cell_type": "code",
   "execution_count": 6,
   "metadata": {},
   "outputs": [
    {
     "name": "stderr",
     "output_type": "stream",
     "text": [
      "INFO:     Started server process [18964]\n",
      "INFO:     Waiting for application startup.\n",
      "INFO:     Application startup complete.\n",
      "INFO:     Uvicorn running on http://127.0.0.1:8000 (Press CTRL+C to quit)\n"
     ]
    },
    {
     "name": "stdout",
     "output_type": "stream",
     "text": [
      "INFO:     127.0.0.1:44670 - \"GET /docs HTTP/1.1\" 200 OK\n",
      "INFO:     127.0.0.1:44670 - \"GET /openapi.json HTTP/1.1\" 200 OK\n",
      "INFO:     127.0.0.1:53774 - \"PUT /items/12 HTTP/1.1\" 422 Unprocessable Entity\n"
     ]
    },
    {
     "name": "stderr",
     "output_type": "stream",
     "text": [
      "INFO:     Shutting down\n",
      "INFO:     Waiting for application shutdown.\n",
      "INFO:     Application shutdown complete.\n",
      "INFO:     Finished server process [18964]\n"
     ]
    }
   ],
   "source": [
    "#Singular values in body\n",
    "\n",
    "\n",
    "#The same way theres is a query and path to define extra data for query and path parameters, fastapi provides and equivalent body\n",
    "\n",
    "\n",
    "#like the item and the user in the previous model we can also add the key named importance in the same body\n",
    "\n",
    "from typing import Annotated\n",
    "\n",
    "from fastapi import Body, FastAPI\n",
    "from pydantic import BaseModel\n",
    "\n",
    "\n",
    "app = FastAPI()\n",
    "\n",
    "\n",
    "\n",
    "class Item(BaseModel):\n",
    "    name : str\n",
    "    description : str|None = None\n",
    "    price: float\n",
    "    tax: float|None = None\n",
    "\n",
    "\n",
    "class User(BaseModel):\n",
    "    username: str\n",
    "    fullname: str | None = None\n",
    "\n",
    "\n",
    "\n",
    "@app.put('/items/{item_id}')\n",
    "async def update_item(item_id:int, item: Item, user:User, importance:Annotated[int, Body(gt=0)]):\n",
    "    results = {'item_id':item_id, 'item':item, 'user':user, 'importance': importance}\n",
    "    return results\n",
    "\n",
    "\n",
    "\n",
    "uvicorn.run(app, port=8000)\n"
   ]
  },
  {
   "cell_type": "code",
   "execution_count": null,
   "metadata": {},
   "outputs": [],
   "source": []
  }
 ],
 "metadata": {
  "kernelspec": {
   "display_name": "DeepLearning",
   "language": "python",
   "name": "python3"
  },
  "language_info": {
   "codemirror_mode": {
    "name": "ipython",
    "version": 3
   },
   "file_extension": ".py",
   "mimetype": "text/x-python",
   "name": "python",
   "nbconvert_exporter": "python",
   "pygments_lexer": "ipython3",
   "version": "3.10.9"
  },
  "orig_nbformat": 4
 },
 "nbformat": 4,
 "nbformat_minor": 2
}
