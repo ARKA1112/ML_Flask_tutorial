{
 "cells": [
  {
   "attachments": {},
   "cell_type": "markdown",
   "metadata": {},
   "source": [
    "Error codes 400-499 means that there wasn an error from the client"
   ]
  },
  {
   "cell_type": "code",
   "execution_count": 1,
   "metadata": {},
   "outputs": [
    {
     "name": "stderr",
     "output_type": "stream",
     "text": [
      "INFO:     Started server process [9161]\n",
      "INFO:     Waiting for application startup.\n",
      "INFO:     Application startup complete.\n",
      "INFO:     Uvicorn running on http://127.0.0.1:8000 (Press CTRL+C to quit)\n"
     ]
    },
    {
     "name": "stdout",
     "output_type": "stream",
     "text": [
      "INFO:     127.0.0.1:33680 - \"GET / HTTP/1.1\" 404 Not Found\n",
      "INFO:     127.0.0.1:43882 - \"GET /items/foo HTTP/1.1\" 200 OK\n",
      "INFO:     127.0.0.1:37720 - \"GET /items/bar HTTP/1.1\" 404 Not Found\n"
     ]
    },
    {
     "name": "stderr",
     "output_type": "stream",
     "text": [
      "INFO:     Shutting down\n",
      "INFO:     Waiting for application shutdown.\n",
      "INFO:     Application shutdown complete.\n",
      "INFO:     Finished server process [9161]\n"
     ]
    }
   ],
   "source": [
    "#use httpexception\n",
    "import nest_asyncio\n",
    "import uvicorn\n",
    "nest_asyncio.apply()\n",
    "\n",
    "\n",
    "\n",
    "from fastapi import FastAPI,HTTPException, status\n",
    "app = FastAPI()\n",
    "\n",
    "\n",
    "items  = {\"foo\": \"this is the first item\"}\n",
    "\n",
    "@app.get('/items/{item_id}')\n",
    "async def read_item(item_id: str):\n",
    "    if item_id not in items:\n",
    "        raise HTTPException(status_code=status.HTTP_404_NOT_FOUND, detail=\"Item Not found\")\n",
    "    return {\"item\": items[item_id]}\n",
    "    \n",
    "\n",
    "uvicorn.run(app, port=8000)\n",
    "\n"
   ]
  },
  {
   "cell_type": "code",
   "execution_count": 3,
   "metadata": {},
   "outputs": [
    {
     "name": "stderr",
     "output_type": "stream",
     "text": [
      "INFO:     Started server process [9161]\n",
      "INFO:     Waiting for application startup.\n",
      "INFO:     Application startup complete.\n",
      "INFO:     Uvicorn running on http://127.0.0.1:8000 (Press CTRL+C to quit)\n"
     ]
    },
    {
     "name": "stdout",
     "output_type": "stream",
     "text": [
      "INFO:     127.0.0.1:56442 - \"GET / HTTP/1.1\" 404 Not Found\n",
      "INFO:     127.0.0.1:56442 - \"GET /docs HTTP/1.1\" 200 OK\n",
      "INFO:     127.0.0.1:56442 - \"GET /openapi.json HTTP/1.1\" 200 OK\n",
      "INFO:     127.0.0.1:40070 - \"GET /items/foo HTTP/1.1\" 200 OK\n"
     ]
    },
    {
     "name": "stderr",
     "output_type": "stream",
     "text": [
      "INFO:     Shutting down\n",
      "INFO:     Waiting for application shutdown.\n",
      "INFO:     Application shutdown complete.\n",
      "INFO:     Finished server process [9161]\n"
     ]
    }
   ],
   "source": [
    "#Adding custom headers\n",
    "\n",
    "\n",
    "from fastapi import FastAPI, HTTPException\n",
    "\n",
    "app = FastAPI()\n",
    "\n",
    "\n",
    "items = {'foo': 'The Foo Wrestlers'}\n",
    "\n",
    "\n",
    "@app.get('/items/{item_id}')\n",
    "async def read_item_header(item_id: str):\n",
    "    if item_id not in items:\n",
    "        raise HTTPException(\n",
    "            status_code=status.HTTP_404_NOT_FOUND,\n",
    "            description= \"Item not found\",\n",
    "            headers={\"X-error\": \"There goes my error\"},\n",
    "        )\n",
    "    \n",
    "    return {\"item\": items[item_id]}\n",
    "\n",
    "\n",
    "uvicorn.run(app, port=8000)"
   ]
  },
  {
   "attachments": {},
   "cell_type": "markdown",
   "metadata": {},
   "source": [
    "Install custom exception handlers"
   ]
  },
  {
   "cell_type": "code",
   "execution_count": 4,
   "metadata": {},
   "outputs": [
    {
     "name": "stderr",
     "output_type": "stream",
     "text": [
      "INFO:     Started server process [9161]\n",
      "INFO:     Waiting for application startup.\n",
      "INFO:     Application startup complete.\n",
      "INFO:     Uvicorn running on http://127.0.0.1:8000 (Press CTRL+C to quit)\n"
     ]
    },
    {
     "name": "stdout",
     "output_type": "stream",
     "text": [
      "INFO:     127.0.0.1:45490 - \"GET /docs HTTP/1.1\" 200 OK\n",
      "INFO:     127.0.0.1:45490 - \"GET /openapi.json HTTP/1.1\" 200 OK\n",
      "INFO:     127.0.0.1:45288 - \"GET /unicorns/yolo HTTP/1.1\" 418 I'm a Teapot\n"
     ]
    },
    {
     "name": "stderr",
     "output_type": "stream",
     "text": [
      "INFO:     Shutting down\n",
      "INFO:     Waiting for application shutdown.\n",
      "INFO:     Application shutdown complete.\n",
      "INFO:     Finished server process [9161]\n"
     ]
    }
   ],
   "source": [
    "#You can add custom exception handlers with the sam exception utilities from starlette\n",
    "#Lets say you have a custom exception UnivornException that you might raise.\n",
    "\n",
    "#And you want to handle this exception globally with FastAPI\n",
    "\n",
    "\n",
    "#You could add a custom exception handler with @app.exception_handler():\n",
    "\n",
    "from fastapi import FastAPI, Request\n",
    "from fastapi.responses import JSONResponse\n",
    "\n",
    "\n",
    "class UnicornException(Exception):\n",
    "    def __init__(self, name:str):\n",
    "        self.name = name\n",
    "\n",
    "\n",
    "app = FastAPI()\n",
    "\n",
    "\n",
    "@app.exception_handler(UnicornException)\n",
    "async def unicorn_exception_handler(request: Request, exc: UnicornException):\n",
    "    return JSONResponse(\n",
    "        status_code=status.HTTP_418_IM_A_TEAPOT,\n",
    "        content={\"message\": f\"oops! {exc.name} did something. There goes a rainbow...\"},\n",
    "    )\n",
    "\n",
    "\n",
    "@app.get(\"/unicorns/{name}\")\n",
    "async def read_unicorn(name: str):\n",
    "    if name == \"yolo\":\n",
    "        raise UnicornException(name=name)\n",
    "    return {'unicorn_name': name}\n",
    "\n",
    "\n",
    "uvicorn.run(app, port=8000)"
   ]
  },
  {
   "attachments": {},
   "cell_type": "markdown",
   "metadata": {},
   "source": [
    "Adding custom exception handlers"
   ]
  },
  {
   "cell_type": "code",
   "execution_count": 1,
   "metadata": {},
   "outputs": [
    {
     "name": "stderr",
     "output_type": "stream",
     "text": [
      "INFO:     Started server process [7963]\n",
      "INFO:     Waiting for application startup.\n",
      "INFO:     Application startup complete.\n",
      "INFO:     Uvicorn running on http://127.0.0.1:8000 (Press CTRL+C to quit)\n"
     ]
    },
    {
     "name": "stdout",
     "output_type": "stream",
     "text": [
      "INFO:     127.0.0.1:43022 - \"GET / HTTP/1.1\" 404 Not Found\n",
      "INFO:     127.0.0.1:43022 - \"GET /favicon.ico HTTP/1.1\" 404 Not Found\n",
      "INFO:     127.0.0.1:39286 - \"GET /unicorns/yolo HTTP/1.1\" 418 I'm a Teapot\n",
      "INFO:     127.0.0.1:39288 - \"GET /docs HTTP/1.1\" 200 OK\n",
      "INFO:     127.0.0.1:39288 - \"GET /openapi.json HTTP/1.1\" 200 OK\n",
      "INFO:     127.0.0.1:50028 - \"GET /unicorns/yolo HTTP/1.1\" 418 I'm a Teapot\n"
     ]
    },
    {
     "name": "stderr",
     "output_type": "stream",
     "text": [
      "INFO:     Shutting down\n",
      "INFO:     Waiting for application shutdown.\n",
      "INFO:     Application shutdown complete.\n",
      "INFO:     Finished server process [7963]\n"
     ]
    }
   ],
   "source": [
    "import nest_asyncio\n",
    "import uvicorn\n",
    "\n",
    "nest_asyncio.apply()\n",
    "\n",
    "from fastapi import FastAPI, Request\n",
    "from fastapi.responses import JSONResponse\n",
    "\n",
    "\n",
    "class UnicornException(Exception):\n",
    "    def __init__(self, name: str):\n",
    "        self.name = name\n",
    "\n",
    "app = FastAPI()\n",
    "\n",
    "\n",
    "@app.exception_handler(UnicornException)\n",
    "async def unicorn_exception_handler(request: Request, exc: UnicornException):\n",
    "    return JSONResponse(\n",
    "        status_code=418,\n",
    "        content={'message': f'Oops! {exc.name} did something. There goes a rainbow ...'},\n",
    "    )\n",
    "\n",
    "@app.get('/unicorns/{name}')\n",
    "async def read_unicorn(name: str):\n",
    "    if name == 'yolo':\n",
    "        raise UnicornException(name=name)\n",
    "    return {\"unicorn_name\": name}\n",
    "\n",
    "\n",
    "\n",
    "uvicorn.run(app, port=8000)"
   ]
  },
  {
   "attachments": {},
   "cell_type": "markdown",
   "metadata": {},
   "source": [
    "Override the default exception handlers"
   ]
  },
  {
   "cell_type": "code",
   "execution_count": null,
   "metadata": {},
   "outputs": [],
   "source": [
    "#The following returns a plaintext response\n",
    "\n",
    "from fastapi import FastAPI, HTTPException\n",
    "from fastapi.exceptions import RequestValidationError\n",
    "from fastapi.responses import PlainTextResponse\n",
    "from starlette.exceptions import HTTPException as StarletteHttpException\n",
    "\n",
    "\n",
    "app = FastAPI()\n",
    "\n",
    "\n",
    "@app.exception_handler(StarletteHttpException)\n",
    "async def http_exception_handler(request, exc):\n",
    "    return PlainTextResponse(str(exc.detail), status_code = exc.status_code)\n",
    "\n",
    "\n",
    "\n",
    "@app.exception_handler(RequestValidationError)\n",
    "async def validation_exception_handler(request, exc):\n",
    "    return PlainTextResponse(str(exc), status_code=400)\n",
    "\n",
    "\n",
    "@app.get('/items/{item_id}')\n",
    "async def read_item(item_id: int):\n",
    "    if item_id == 3:\n",
    "        raise HTTPException(status_code=418, detail='Nope! I dont like 3.')\n",
    "    return {'item_id': item_id}\n",
    "\n",
    "\n",
    "uvicorn.run(app, port=8000)"
   ]
  },
  {
   "cell_type": "code",
   "execution_count": null,
   "metadata": {},
   "outputs": [],
   "source": []
  }
 ],
 "metadata": {
  "kernelspec": {
   "display_name": "DeepLearning",
   "language": "python",
   "name": "python3"
  },
  "language_info": {
   "codemirror_mode": {
    "name": "ipython",
    "version": 3
   },
   "file_extension": ".py",
   "mimetype": "text/x-python",
   "name": "python",
   "nbconvert_exporter": "python",
   "pygments_lexer": "ipython3",
   "version": "3.10.9"
  },
  "orig_nbformat": 4
 },
 "nbformat": 4,
 "nbformat_minor": 2
}
