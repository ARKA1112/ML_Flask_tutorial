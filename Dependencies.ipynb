{
 "cells": [
  {
   "cell_type": "code",
   "execution_count": 1,
   "metadata": {},
   "outputs": [],
   "source": [
    "import nest_asyncio\n",
    "import uvicorn\n",
    "\n",
    "nest_asyncio.apply()"
   ]
  },
  {
   "attachments": {},
   "cell_type": "markdown",
   "metadata": {},
   "source": [
    "Dependency Injection"
   ]
  },
  {
   "cell_type": "code",
   "execution_count": 2,
   "metadata": {},
   "outputs": [],
   "source": [
    "#Dependency injection means in programming, that there is a way for your code to declare things that it requires to work and use:\n",
    "\n",
    "#And then that system will take care of doing whatever is needed to provide your code with those needed dependencies"
   ]
  },
  {
   "cell_type": "code",
   "execution_count": 3,
   "metadata": {},
   "outputs": [
    {
     "name": "stderr",
     "output_type": "stream",
     "text": [
      "INFO:     Started server process [25670]\n",
      "INFO:     Waiting for application startup.\n",
      "INFO:     Application startup complete.\n",
      "INFO:     Uvicorn running on http://127.0.0.1:8000 (Press CTRL+C to quit)\n"
     ]
    },
    {
     "name": "stdout",
     "output_type": "stream",
     "text": [
      "INFO:     127.0.0.1:42956 - \"GET /docs HTTP/1.1\" 200 OK\n",
      "INFO:     127.0.0.1:42956 - \"GET /openapi.json HTTP/1.1\" 200 OK\n"
     ]
    },
    {
     "name": "stderr",
     "output_type": "stream",
     "text": [
      "INFO:     Shutting down\n",
      "INFO:     Waiting for application shutdown.\n",
      "INFO:     Application shutdown complete.\n",
      "INFO:     Finished server process [25670]\n"
     ]
    }
   ],
   "source": [
    "from typing import Annotated\n",
    "from fastapi import Depends, FastAPI\n",
    "\n",
    "app = FastAPI()\n",
    "\n",
    "\n",
    "async def common_parameters(q: str | None = None, skip: int = 0, limit: int = 100):\n",
    "    return {\"q\":q, \"skip\": skip, \"limit\": limit}\n",
    "\n",
    "\n",
    "@app.get('/items/')\n",
    "async def read_items(commons: Annotated[dict, Depends(common_parameters)]):\n",
    "    return commons\n",
    "\n",
    "@app.get('/users/')\n",
    "async def read_users(commons: Annotated[dict, Depends(common_parameters)]):\n",
    "    return commons\n",
    "\n",
    "\n",
    "uvicorn.run(app, port=8000)"
   ]
  },
  {
   "cell_type": "code",
   "execution_count": 3,
   "metadata": {},
   "outputs": [
    {
     "name": "stderr",
     "output_type": "stream",
     "text": [
      "INFO:     Started server process [6497]\n",
      "INFO:     Waiting for application startup.\n",
      "INFO:     Application startup complete.\n",
      "INFO:     Uvicorn running on http://127.0.0.1:8000 (Press CTRL+C to quit)\n"
     ]
    },
    {
     "name": "stdout",
     "output_type": "stream",
     "text": [
      "INFO:     127.0.0.1:54934 - \"GET / HTTP/1.1\" 404 Not Found\n",
      "INFO:     127.0.0.1:54934 - \"GET /favicon.ico HTTP/1.1\" 404 Not Found\n",
      "INFO:     127.0.0.1:54934 - \"GET /docs HTTP/1.1\" 200 OK\n",
      "INFO:     127.0.0.1:54934 - \"GET /openapi.json HTTP/1.1\" 200 OK\n",
      "INFO:     127.0.0.1:57788 - \"GET /items/?skip=0&limit=100 HTTP/1.1\" 200 OK\n"
     ]
    },
    {
     "name": "stderr",
     "output_type": "stream",
     "text": [
      "INFO:     Shutting down\n",
      "INFO:     Waiting for application shutdown.\n",
      "INFO:     Application shutdown complete.\n",
      "INFO:     Finished server process [6497]\n"
     ]
    }
   ],
   "source": [
    "#avoiding code duplication like above\n",
    "\n",
    "from typing import Annotated\n",
    "from fastapi import Depends, FastAPI\n",
    "\n",
    "app = FastAPI()\n",
    "\n",
    "\n",
    "async def common_parameters(q: str | None = None, skip: int = 0, limit: int = 100):\n",
    "    return {\"q\": q, \"skip\": skip, \"limit\": limit}\n",
    "\n",
    "\n",
    "CommonsDep = Annotated[dict, Depends(common_parameters)]\n",
    "\n",
    "\n",
    "@app.get(\"/items/\")\n",
    "async def read_items(commons: CommonsDep):\n",
    "    return commons\n",
    "\n",
    "\n",
    "@app.get(\"/users/\")\n",
    "async def read_users(commons: CommonsDep):\n",
    "    return commons\n",
    "\n",
    "\n",
    "\n",
    "uvicorn.run(app, port=8000)\n"
   ]
  },
  {
   "cell_type": "code",
   "execution_count": 4,
   "metadata": {},
   "outputs": [
    {
     "name": "stderr",
     "output_type": "stream",
     "text": [
      "INFO:     Started server process [6497]\n",
      "INFO:     Waiting for application startup.\n",
      "INFO:     Application startup complete.\n",
      "INFO:     Uvicorn running on http://127.0.0.1:8000 (Press CTRL+C to quit)\n"
     ]
    },
    {
     "name": "stdout",
     "output_type": "stream",
     "text": [
      "INFO:     127.0.0.1:36892 - \"GET /docs HTTP/1.1\" 200 OK\n",
      "INFO:     127.0.0.1:36892 - \"GET /openapi.json HTTP/1.1\" 200 OK\n",
      "INFO:     127.0.0.1:33438 - \"GET /items/?skip=0&limit=100 HTTP/1.1\" 200 OK\n"
     ]
    },
    {
     "name": "stderr",
     "output_type": "stream",
     "text": [
      "INFO:     Shutting down\n",
      "INFO:     Waiting for application shutdown.\n",
      "INFO:     Application shutdown complete.\n",
      "INFO:     Finished server process [6497]\n"
     ]
    }
   ],
   "source": [
    "#To async or not to async\n",
    "\n",
    "#As dependencies will also be called by fastapi, the same rules apply while defining your functions.\n",
    "\n",
    "\n",
    "#You can use async def or normal def.\n",
    "\n",
    "\n",
    "#You can declare dependencies with async def inside of normal def path operation functions, or def dependencies inside of async def path operation functions, etc.\n",
    "\n",
    "\n",
    "\n",
    "from typing import Annotated\n",
    "from fastapi import Depends, FastAPI\n",
    "\n",
    "\n",
    "app = FastAPI()\n",
    "\n",
    "fake_items_db = [{\"item_name\": \"Foo\"}, {\"item_name\": \"Bar\"}, {\"item_name\": \"Baz\"}]\n",
    "\n",
    "\n",
    "\n",
    "class CommonQueryParams:\n",
    "    def __init__(self, q: str | None = None, skip: int = 0, limit: int = 100):\n",
    "        self.q = q\n",
    "        self.skip = skip\n",
    "        self.limit = limit\n",
    "\n",
    "\n",
    "@app.get('/items/')\n",
    "async def read_items(commons: Annotated[CommonQueryParams, Depends(CommonQueryParams)]):\n",
    "    response = {}\n",
    "    if commons.q:\n",
    "        response.update({\"q\": commons.q})\n",
    "    items = fake_items_db[commons.skip: commons.skip + commons.limit]\n",
    "    response.update({'items': items})\n",
    "    return response\n",
    "\n",
    "\n",
    "uvicorn.run(app, port=8000)"
   ]
  },
  {
   "attachments": {},
   "cell_type": "markdown",
   "metadata": {},
   "source": [
    "Sub-dependencies"
   ]
  },
  {
   "cell_type": "code",
   "execution_count": 5,
   "metadata": {},
   "outputs": [
    {
     "name": "stderr",
     "output_type": "stream",
     "text": [
      "INFO:     Started server process [6497]\n",
      "INFO:     Waiting for application startup.\n",
      "INFO:     Application startup complete.\n",
      "INFO:     Uvicorn running on http://127.0.0.1:8000 (Press CTRL+C to quit)\n"
     ]
    },
    {
     "name": "stdout",
     "output_type": "stream",
     "text": [
      "INFO:     127.0.0.1:58786 - \"GET /docs HTTP/1.1\" 200 OK\n",
      "INFO:     127.0.0.1:58786 - \"GET /openapi.json HTTP/1.1\" 200 OK\n",
      "INFO:     127.0.0.1:35076 - \"GET /items/ HTTP/1.1\" 200 OK\n"
     ]
    },
    {
     "name": "stderr",
     "output_type": "stream",
     "text": [
      "INFO:     Shutting down\n",
      "INFO:     Waiting for application shutdown.\n",
      "INFO:     Application shutdown complete.\n",
      "INFO:     Finished server process [6497]\n"
     ]
    }
   ],
   "source": [
    "#You can create dependencies that have sub-dependencies.\n",
    "#They can be as deep as you need them to be.\n",
    "#FastAPI will take care of solving them.\n",
    "\n",
    "\n",
    "#FIRST DEPENDENCY \"DEPENDABLE\"\n",
    "\n",
    "from typing import Annotated\n",
    "from fastapi import Cookie, Depends, FastAPI\n",
    "\n",
    "app = FastAPI()\n",
    "\n",
    "\n",
    "def query_extractor(q: str | None = None):\n",
    "    return q\n",
    "\n",
    "\n",
    "def query_or_cookie_extractor(\n",
    "        q: Annotated[str, Depends(query_extractor)],\n",
    "        last_query: Annotated[str | None, Cookie()] = None,\n",
    "):\n",
    "    if not q:\n",
    "        return last_query\n",
    "    return q\n",
    "\n",
    "\n",
    "\n",
    "@app.get('/items/')\n",
    "async def read_query(query_or_default: Annotated[str, Depends(query_or_cookie_extractor)]):\n",
    "    return {'q_or_cookie': query_or_default}\n",
    "\n",
    "\n",
    "\n",
    "uvicorn.run(app, port=8000)"
   ]
  },
  {
   "attachments": {},
   "cell_type": "markdown",
   "metadata": {},
   "source": [
    "Using the same dependency multiple times"
   ]
  },
  {
   "cell_type": "code",
   "execution_count": 6,
   "metadata": {},
   "outputs": [
    {
     "ename": "NameError",
     "evalue": "name 'get_value' is not defined",
     "output_type": "error",
     "traceback": [
      "\u001b[0;31m---------------------------------------------------------------------------\u001b[0m",
      "\u001b[0;31mNameError\u001b[0m                                 Traceback (most recent call last)",
      "\u001b[1;32m/home/susearc/Documents/github/FastAPI/Dependencies.ipynb Cell 10\u001b[0m in \u001b[0;36m1\n\u001b[0;32m----> <a href='vscode-notebook-cell:/home/susearc/Documents/github/FastAPI/Dependencies.ipynb#X16sZmlsZQ%3D%3D?line=0'>1</a>\u001b[0m \u001b[39masync\u001b[39;00m \u001b[39mdef\u001b[39;00m \u001b[39mneedy_dependency\u001b[39m(fresh_value: Annotated[\u001b[39mstr\u001b[39m, Depends(get_value, use_cache\u001b[39m=\u001b[39m\u001b[39mFalse\u001b[39;00m)]):\n\u001b[1;32m      <a href='vscode-notebook-cell:/home/susearc/Documents/github/FastAPI/Dependencies.ipynb#X16sZmlsZQ%3D%3D?line=1'>2</a>\u001b[0m     \u001b[39mreturn\u001b[39;00m {\u001b[39m\"\u001b[39m\u001b[39mfresh_value\u001b[39m\u001b[39m\"\u001b[39m: fresh_value}\n",
      "\u001b[0;31mNameError\u001b[0m: name 'get_value' is not defined"
     ]
    }
   ],
   "source": [
    "async def needy_dependency(fresh_value: Annotated[str, Depends(get_value, use_cache=False)]):\n",
    "    return {\"fresh_value\": fresh_value}"
   ]
  },
  {
   "attachments": {},
   "cell_type": "markdown",
   "metadata": {},
   "source": [
    "Dependencies in path opeartion decorators"
   ]
  },
  {
   "cell_type": "code",
   "execution_count": 7,
   "metadata": {},
   "outputs": [],
   "source": [
    "#In some cases you dont really need the return value of a dependency inside your path operation function.\n",
    "\n",
    "#Or the dependency doesnt return a value.\n",
    "\n",
    "#But you still need it to be executed/solved.\n",
    "\n",
    "#For those cases, instead of declaring a path operation function parameter with Depends,you can add a list of dependencies to the path operation decorator.\n",
    "\n",
    "\n"
   ]
  },
  {
   "attachments": {},
   "cell_type": "markdown",
   "metadata": {},
   "source": [
    "Add dependencies to the path operation decorator"
   ]
  },
  {
   "cell_type": "code",
   "execution_count": 9,
   "metadata": {},
   "outputs": [
    {
     "name": "stderr",
     "output_type": "stream",
     "text": [
      "INFO:     Started server process [6497]\n",
      "INFO:     Waiting for application startup.\n",
      "INFO:     Application startup complete.\n",
      "INFO:     Uvicorn running on http://127.0.0.1:8000 (Press CTRL+C to quit)\n"
     ]
    },
    {
     "name": "stdout",
     "output_type": "stream",
     "text": [
      "INFO:     127.0.0.1:48808 - \"GET /docs HTTP/1.1\" 200 OK\n",
      "INFO:     127.0.0.1:48808 - \"GET /openapi.json HTTP/1.1\" 200 OK\n",
      "INFO:     127.0.0.1:44260 - \"GET /items/ HTTP/1.1\" 400 Bad Request\n",
      "INFO:     127.0.0.1:46528 - \"GET /items/ HTTP/1.1\" 200 OK\n",
      "INFO:     127.0.0.1:50772 - \"GET /items/ HTTP/1.1\" 400 Bad Request\n",
      "INFO:     127.0.0.1:42032 - \"GET /items/ HTTP/1.1\" 400 Bad Request\n"
     ]
    },
    {
     "name": "stderr",
     "output_type": "stream",
     "text": [
      "INFO:     Shutting down\n",
      "INFO:     Waiting for application shutdown.\n",
      "INFO:     Application shutdown complete.\n",
      "INFO:     Finished server process [6497]\n"
     ]
    }
   ],
   "source": [
    "from typing import Annotated\n",
    "from fastapi import Depends, FastAPI, Header, HTTPException\n",
    "\n",
    "\n",
    "app = FastAPI()\n",
    "\n",
    "\n",
    "\n",
    "async def verify_token(x_token: Annotated[str, Header()]):\n",
    "    if x_token !=\"fake-super-secret-token\":\n",
    "        raise HTTPException(status_code=400, detail=\"X-Token header invalid\")\n",
    "    \n",
    "\n",
    "async def verify_key(x_key: Annotated[str, Header()]):\n",
    "    if x_key != \"fake-super-secret-token\":\n",
    "        raise HTTPException(status_code=400, detail=\"X-key header invalid\")\n",
    "\n",
    "\n",
    "\n",
    "@app.get(\"/items/\", dependencies=[Depends(verify_token), Depends(verify_key)])\n",
    "async def read_items():\n",
    "    return [{\"item\": \"Foo\"}, {\"item\": \"Bar\"}]\n",
    "\n",
    "\n",
    "uvicorn.run(app, port=8000)"
   ]
  },
  {
   "attachments": {},
   "cell_type": "markdown",
   "metadata": {},
   "source": [
    "## Global Dependencies"
   ]
  },
  {
   "cell_type": "code",
   "execution_count": 10,
   "metadata": {},
   "outputs": [
    {
     "name": "stderr",
     "output_type": "stream",
     "text": [
      "INFO:     Started server process [6497]\n",
      "INFO:     Waiting for application startup.\n",
      "INFO:     Application startup complete.\n",
      "INFO:     Uvicorn running on http://127.0.0.1:8000 (Press CTRL+C to quit)\n"
     ]
    },
    {
     "name": "stdout",
     "output_type": "stream",
     "text": [
      "INFO:     127.0.0.1:41370 - \"GET /docs HTTP/1.1\" 200 OK\n",
      "INFO:     127.0.0.1:41370 - \"GET /openapi.json HTTP/1.1\" 200 OK\n",
      "INFO:     127.0.0.1:40664 - \"GET /items/ HTTP/1.1\" 400 Bad Request\n",
      "INFO:     127.0.0.1:53144 - \"GET /items/ HTTP/1.1\" 400 Bad Request\n",
      "INFO:     127.0.0.1:57374 - \"GET /items/ HTTP/1.1\" 200 OK\n",
      "INFO:     127.0.0.1:43038 - \"GET /users/ HTTP/1.1\" 200 OK\n"
     ]
    },
    {
     "name": "stderr",
     "output_type": "stream",
     "text": [
      "INFO:     Shutting down\n",
      "INFO:     Waiting for application shutdown.\n",
      "INFO:     Application shutdown complete.\n",
      "INFO:     Finished server process [6497]\n"
     ]
    }
   ],
   "source": [
    "#For some types of applications you might want to add dependencies to the whole application.\n",
    "\n",
    "#Similar to the way you can add dependencies to the path operation decorators, you can add them to the FastAPI application.\n",
    "\n",
    "#In that case, they will be applied to all the path operations in the application:\n",
    "\n",
    "\n",
    "\n",
    "from fastapi import Depends, FastAPI, Header, HTTPException\n",
    "from typing_extensions import Annotated\n",
    "\n",
    "\n",
    "async def verify_token(x_token: Annotated[str, Header()]):\n",
    "    if x_token != 'fake-super-secret-token':\n",
    "        raise HTTPException(status_code=400, detail=\"X-Token header invalid\")\n",
    "\n",
    "\n",
    "async def verify_key(x_key: Annotated[str, Header()]):\n",
    "    if x_key != 'fake-super-secret-key':\n",
    "        raise HTTPException(status_code=400, detail=\"X-key header invalid\")\n",
    "    return x_key\n",
    "\n",
    "\n",
    "app = FastAPI(dependencies=[Depends(verify_token), Depends(verify_key)])\n",
    "\n",
    "\n",
    "\n",
    "@app.get('/items/')\n",
    "async def read_items():\n",
    "    return [{'item': \"Portal Gun\"}, {\"item\": \"Plumbus\"}]\n",
    "\n",
    "\n",
    "@app.get('/users/')\n",
    "async def read_users():\n",
    "    return [{'username': \"rick\"}, {'username': 'Morty'}]\n",
    "\n",
    "\n",
    "\n",
    "uvicorn.run(app, port=8000)\n"
   ]
  },
  {
   "attachments": {},
   "cell_type": "markdown",
   "metadata": {},
   "source": [
    "## Dependencies with yield and try"
   ]
  },
  {
   "cell_type": "code",
   "execution_count": null,
   "metadata": {},
   "outputs": [],
   "source": [
    "#If you use a try block in a dependency with yield, you will receive any exception that was thrown when using the dependency.\n",
    "\n",
    "#So you can look for that specific exception inside the dependency with\n",
    "\n",
    "\n",
    "\n",
    "#In the same way, you can use finally to make sure the exit steps are executed, no matter if there was an exception or not.\n",
    "\n",
    "async def get_db():\n",
    "    db = DBSession()\n",
    "    try:\n",
    "        yield db\n",
    "    finally:\n",
    "        db.close()\n",
    "\n",
    "\n"
   ]
  },
  {
   "cell_type": "code",
   "execution_count": null,
   "metadata": {},
   "outputs": [],
   "source": [
    "# Sub-dependencies with yield\n",
    "from typing import Annotated\n",
    "from fastapi import Depends\n",
    "\n",
    "\n",
    "async def depedency_a():\n",
    "    dep_a = generate_dep_a()\n",
    "    try:\n",
    "        yield dep_a\n",
    "    finally:\n",
    "        dep_a.close()\n",
    "\n",
    "\n",
    "async def dependency_b(dep_a: Annotated[DepA, Depends(depedency_a)]):\n",
    "    dep_b = generate_dep_b()\n",
    "    try:\n",
    "        yield dep_b\n",
    "    finally:\n",
    "        dep_b.close(dep_a)\n",
    "\n",
    "async def dependency_c(dep_b: Annotated[DepB, Depends(dependency_b)]):\n",
    "    dep_c = generate_dep_c()\n",
    "    try:\n",
    "        yield dep_c\n",
    "    finally:\n",
    "        dep_c.close(dep_b)\n",
    "\n",
    "\n",
    "        \n"
   ]
  },
  {
   "attachments": {},
   "cell_type": "markdown",
   "metadata": {},
   "source": [
    "Dependencies with yield and HTTPException"
   ]
  },
  {
   "cell_type": "code",
   "execution_count": null,
   "metadata": {},
   "outputs": [],
   "source": []
  }
 ],
 "metadata": {
  "kernelspec": {
   "display_name": "DeepLearning",
   "language": "python",
   "name": "python3"
  },
  "language_info": {
   "codemirror_mode": {
    "name": "ipython",
    "version": 3
   },
   "file_extension": ".py",
   "mimetype": "text/x-python",
   "name": "python",
   "nbconvert_exporter": "python",
   "pygments_lexer": "ipython3",
   "version": "3.10.9"
  },
  "orig_nbformat": 4
 },
 "nbformat": 4,
 "nbformat_minor": 2
}
