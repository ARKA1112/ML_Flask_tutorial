{
 "cells": [
  {
   "cell_type": "code",
   "execution_count": 1,
   "metadata": {},
   "outputs": [],
   "source": [
    "import nest_asyncio\n",
    "import uvicorn\n",
    "nest_asyncio.apply()"
   ]
  },
  {
   "cell_type": "code",
   "execution_count": 3,
   "metadata": {},
   "outputs": [
    {
     "name": "stderr",
     "output_type": "stream",
     "text": [
      "INFO:     Started server process [16766]\n",
      "INFO:     Waiting for application startup.\n",
      "INFO:     Application startup complete.\n",
      "INFO:     Uvicorn running on http://127.0.0.1:8000 (Press CTRL+C to quit)\n"
     ]
    },
    {
     "name": "stdout",
     "output_type": "stream",
     "text": [
      "INFO:     127.0.0.1:59854 - \"GET / HTTP/1.1\" 404 Not Found\n",
      "INFO:     127.0.0.1:59854 - \"GET /favicon.ico HTTP/1.1\" 404 Not Found\n",
      "INFO:     127.0.0.1:59854 - \"GET /docs HTTP/1.1\" 200 OK\n",
      "INFO:     127.0.0.1:59854 - \"GET /openapi.json HTTP/1.1\" 200 OK\n",
      "INFO:     127.0.0.1:42840 - \"GET /items/item_id/?item-query=falor111 HTTP/1.1\" 422 Unprocessable Entity\n"
     ]
    },
    {
     "name": "stderr",
     "output_type": "stream",
     "text": [
      "INFO:     Shutting down\n",
      "INFO:     Waiting for application shutdown.\n",
      "INFO:     Application shutdown complete.\n",
      "INFO:     Finished server process [16766]\n"
     ]
    }
   ],
   "source": [
    "#Path parameters an Numeric Valiations\n",
    "\n",
    "from typing import Annotated\n",
    "from fastapi import FastAPI, Query, Path\n",
    "\n",
    "\n",
    "\n",
    "app = FastAPI()\n",
    "\n",
    "\n",
    "@app.get('/items/item_id/')\n",
    "async def read_items(item_id:Annotated[int, Path(title='The Id of the item you get')], q: Annotated[str | None, Query(alias='item-query')] = None,):\n",
    "    results = {\"item_id\":item_id}\n",
    "    if q:\n",
    "        results.update({'q':q})\n",
    "    return results\n",
    "\n",
    "\n",
    "uvicorn.run(app, port=8000)"
   ]
  },
  {
   "cell_type": "code",
   "execution_count": null,
   "metadata": {},
   "outputs": [],
   "source": []
  },
  {
   "cell_type": "code",
   "execution_count": 4,
   "metadata": {},
   "outputs": [
    {
     "name": "stderr",
     "output_type": "stream",
     "text": [
      "INFO:     Started server process [16766]\n",
      "INFO:     Waiting for application startup.\n",
      "INFO:     Application startup complete.\n",
      "INFO:     Uvicorn running on http://127.0.0.1:8000 (Press CTRL+C to quit)\n"
     ]
    },
    {
     "name": "stdout",
     "output_type": "stream",
     "text": [
      "INFO:     127.0.0.1:45920 - \"GET / HTTP/1.1\" 404 Not Found\n",
      "INFO:     127.0.0.1:45920 - \"GET /docs HTTP/1.1\" 200 OK\n",
      "INFO:     127.0.0.1:45920 - \"GET /openapi.json HTTP/1.1\" 200 OK\n",
      "INFO:     127.0.0.1:54708 - \"GET /items/item_id/ HTTP/1.1\" 422 Unprocessable Entity\n"
     ]
    },
    {
     "name": "stderr",
     "output_type": "stream",
     "text": [
      "INFO:     Shutting down\n",
      "INFO:     Waiting for application shutdown.\n",
      "INFO:     Application shutdown complete.\n",
      "INFO:     Finished server process [16766]\n"
     ]
    }
   ],
   "source": [
    "#Path parameters an Numeric Valiations\n",
    "\n",
    "from typing import Annotated\n",
    "from fastapi import FastAPI, Query, Path\n",
    "\n",
    "\n",
    "\n",
    "app = FastAPI()\n",
    "\n",
    "\n",
    "@app.get('/items/item_id/')\n",
    "async def read_items(item_id:Annotated[int, Path(title='The Id of the item you get', ge=1)], q: Annotated[str | None, Query(alias='item-query')] = None,):\n",
    "    results = {\"item_id\":item_id}\n",
    "    if q:\n",
    "        results.update({'q':q})\n",
    "    return results\n",
    "\n",
    "\n",
    "uvicorn.run(app, port=8000)"
   ]
  },
  {
   "cell_type": "code",
   "execution_count": null,
   "metadata": {},
   "outputs": [
    {
     "name": "stderr",
     "output_type": "stream",
     "text": [
      "INFO:     Started server process [16766]\n",
      "INFO:     Waiting for application startup.\n",
      "INFO:     Application startup complete.\n",
      "INFO:     Uvicorn running on http://127.0.0.1:8000 (Press CTRL+C to quit)\n"
     ]
    },
    {
     "name": "stdout",
     "output_type": "stream",
     "text": [
      "INFO:     127.0.0.1:59854 - \"GET / HTTP/1.1\" 404 Not Found\n",
      "INFO:     127.0.0.1:59854 - \"GET /favicon.ico HTTP/1.1\" 404 Not Found\n",
      "INFO:     127.0.0.1:59854 - \"GET /docs HTTP/1.1\" 200 OK\n",
      "INFO:     127.0.0.1:59854 - \"GET /openapi.json HTTP/1.1\" 200 OK\n",
      "INFO:     127.0.0.1:42840 - \"GET /items/item_id/?item-query=falor111 HTTP/1.1\" 422 Unprocessable Entity\n"
     ]
    },
    {
     "name": "stderr",
     "output_type": "stream",
     "text": [
      "INFO:     Shutting down\n",
      "INFO:     Waiting for application shutdown.\n",
      "INFO:     Application shutdown complete.\n",
      "INFO:     Finished server process [16766]\n"
     ]
    }
   ],
   "source": [
    "#Path parameters an Numeric Valiations\n",
    "\n",
    "from typing import Annotated\n",
    "from fastapi import FastAPI, Query, Path\n",
    "\n",
    "\n",
    "\n",
    "app = FastAPI()\n",
    "\n",
    "\n",
    "@app.get('/items/item_id/')\n",
    "async def read_items(item_id:Annotated[int, Path(title='The Id of the item you get', ge=0, le=1000)], q: Annotated[str | None, Query(alias='item-query')] = None,):\n",
    "    results = {\"item_id\":item_id}\n",
    "    if q:\n",
    "        results.update({'q':q})\n",
    "    return results\n",
    "\n",
    "\n",
    "uvicorn.run(app, port=8000)"
   ]
  },
  {
   "cell_type": "code",
   "execution_count": null,
   "metadata": {},
   "outputs": [],
   "source": []
  }
 ],
 "metadata": {
  "kernelspec": {
   "display_name": "DeepLearning",
   "language": "python",
   "name": "python3"
  },
  "language_info": {
   "codemirror_mode": {
    "name": "ipython",
    "version": 3
   },
   "file_extension": ".py",
   "mimetype": "text/x-python",
   "name": "python",
   "nbconvert_exporter": "python",
   "pygments_lexer": "ipython3",
   "version": "3.10.9"
  },
  "orig_nbformat": 4
 },
 "nbformat": 4,
 "nbformat_minor": 2
}
